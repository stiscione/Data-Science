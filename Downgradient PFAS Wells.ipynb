{
 "cells": [
  {
   "cell_type": "markdown",
   "id": "63ca023a",
   "metadata": {},
   "source": [
    "### Finding PFAS in groundwater wells downgradient from release\n",
    "When there is a chemical release on-site the concentration in the subsurface groundwater will be greatest at the point of release and then radiate outward. The rate of flow going out depends on many things including the physiochemical properties of the chemical. Modeling how the chemical moves in the groundwater is very complex; however, one simple question we want to answer is how far does PFAS in the subsurface groundwater move away from the site. \n",
    "\n",
    "In this example the program is looking at PFAS compound 'PFOA' at Airport sites only.\n",
    "\n",
    "To determine this I will output a query from the SQL database with a list of sites with the location of the maximum detected PFAS concentration (which we will assume is the release point). Then the file is input here where the program will look outwards to a range of 4 miles and list every groundwater well where PFAS was detected and the distance. Each tab in the output file is for one Airport and this file can then be brought into a BI software where we can look at trends of decay in concentration vs distance."
   ]
  },
  {
   "cell_type": "code",
   "execution_count": 6,
   "id": "ee378161",
   "metadata": {},
   "outputs": [],
   "source": [
    "import sqlite3\n",
    "from math import sin, cos, sqrt, atan2, radians\n",
    "import csv\n",
    "import xlrd\n",
    "import xlwt\n",
    "import xlsxwriter\n",
    "import pandas as pd\n",
    "import warnings\n",
    "warnings.filterwarnings('ignore')"
   ]
  },
  {
   "cell_type": "code",
   "execution_count": 7,
   "id": "94c2e3c6",
   "metadata": {
    "scrolled": true
   },
   "outputs": [
    {
     "name": "stdout",
     "output_type": "stream",
     "text": [
      "Upload File? (answer y or n):y\n",
      "Enter filename:airports_pfos.xls\n",
      "Search Complete\n"
     ]
    }
   ],
   "source": [
    "#this program takes a query of airport sites with the maximum detected  PFOA detection well and looks around that well up to 4 miles and exports  all nearby wells into an excel and CSV file for further analysis\n",
    "#SQL query for reference: SELECT site_name, globalid, lat, long, max(value), date FROM pfas_ca WHERE matrix=\"Liquid\" AND chemical=\"PFOA\" AND value <> 0 AND site_use = \"Airport\" GROUP BY globalid\n",
    "R = 6373.0\n",
    "conn = sqlite3.connect('pfasdb.sqlite')\n",
    "cur = conn.cursor()\n",
    "\n",
    "#output to this excel file\n",
    "writer = pd.ExcelWriter('airport_pfos_gradient.xlsx', engine='xlsxwriter')\n",
    "\n",
    "#prompt user if they want to upload file\n",
    "choice = input('Upload File? (answer y or n):')\n",
    "\n",
    "if choice ==\"y\":\n",
    "    #user provides filename\n",
    "    inputfile = input('Enter filename:')\n",
    "    wb = xlrd.open_workbook(inputfile)\n",
    "    sheet = wb.sheet_by_index(0)\n",
    "    #for each row in the file will perform the search\n",
    "    for row in range(sheet.nrows):\n",
    "        df = pd.DataFrame(columns = ['globalid', 'locationid', 'distance', 'beginning range','end range','chemical','avg_value','lat','long','date','field_class'])\n",
    "        site_name = sheet.cell_value(row,0)\n",
    "        site_id = sheet.cell_value(row,1)\n",
    "        site_lat = sheet.cell_value(row,2)\n",
    "        site_long = sheet.cell_value(row,3)\n",
    "        site_max = sheet.cell_value(row,4)\n",
    "        site_date = sheet.cell_value(row,5)\n",
    "        #add the site name and max to the top of the output for each sheet\n",
    "        airport_info = pd.DataFrame([[site_name,site_date,site_max,\"\",\"\",\"\",\"\",\"\",\"\",\"\",\"\"]],columns = ['globalid', 'locationid', 'distance', 'beginning range','end range','chemical','avg_value','lat','long','date','field_class'])\n",
    "        df = df.append(airport_info)\n",
    "\n",
    "        site_lat = radians(site_lat)\n",
    "        site_long = radians(site_long)\n",
    "\n",
    "        #takes the coordinates of the max detect well and measures its distance to each CA well in the database\n",
    "        for well in cur.execute('SELECT GlobalID, LocationID, Latitude, Longitude, Chemical, Value, ReportingLimit, Date, FieldPtClass FROM ALL_PFAS_CHEMICALS WHERE Matrix=\"Liquid\" AND Chemical=\"PFOS\" AND Value <> 0'):\n",
    "            #distance_range = range(5)\n",
    "            range_indicator = 0\n",
    "            #distance formula for the two sets of coordinates and returns distance in miles\n",
    "            well_id = well[0]\n",
    "            well_loc = well[1]\n",
    "            well_lat = well[2]\n",
    "            well_long = well[3]\n",
    "            well_lat_output = well[2]\n",
    "            well_long_output = well[3]\n",
    "            chemical = well[4]\n",
    "            avg_value = well[5]\n",
    "            date = well[7]\n",
    "            field_class = well[8]\n",
    "            if well_id ==\"\" or well_lat ==\"\" or well_long ==\"\" or well_lat ==None or well_long ==None:\n",
    "                continue\n",
    "            well_lat = radians(float(well_lat))\n",
    "            well_long = radians(float(well_long))\n",
    "            dlon = well_long - site_long\n",
    "            dlat = well_lat - site_lat\n",
    "            a = sin(dlat / 2)**2 + cos(well_lat) * cos(site_lat) * sin(dlon / 2)**2\n",
    "            c = 2 * atan2(sqrt(a), sqrt(1 - a))\n",
    "            distance = R * c * 0.621371\n",
    "\n",
    "            #goes through distance from well (0 to 4 miles) in 0.5 mile incremensts and starts outputing them in these categories\n",
    "            while range_indicator < 4 :\n",
    "                previous_distance = range_indicator\n",
    "                range_indicator = range_indicator + 0.5\n",
    "                if distance <= range_indicator and distance > previous_distance:\n",
    "                    # information on well that will go to output file\n",
    "                    well_information = [[well_id,well_loc,distance,previous_distance,range_indicator,chemical, avg_value, well_lat_output, well_long_output, date, field_class]]\n",
    "                    data = pd.DataFrame([[well_id,well_loc,distance,previous_distance,range_indicator,chemical, avg_value, well_lat_output, well_long_output, date, field_class]], columns = ['globalid', 'locationid', 'distance', 'beginning range','end range','chemical','avg_value','lat','long','date', 'field_class'])\n",
    "                    df = df.append(data)\n",
    "                else:\n",
    "                    continue\n",
    "        #write all the wells to the output. each sheet is an airport tab that is named as the first 10 characters of the airport name.\n",
    "        df.to_excel (writer,sheet_name=site_name[0:10])\n",
    "        #save file\n",
    "    writer.save()\n",
    "cur.close()\n",
    "print(\"Search Complete\")"
   ]
  },
  {
   "cell_type": "code",
   "execution_count": null,
   "id": "99f64e5c",
   "metadata": {},
   "outputs": [],
   "source": []
  }
 ],
 "metadata": {
  "kernelspec": {
   "display_name": "Python 3 (ipykernel)",
   "language": "python",
   "name": "python3"
  },
  "language_info": {
   "codemirror_mode": {
    "name": "ipython",
    "version": 3
   },
   "file_extension": ".py",
   "mimetype": "text/x-python",
   "name": "python",
   "nbconvert_exporter": "python",
   "pygments_lexer": "ipython3",
   "version": "3.9.7"
  }
 },
 "nbformat": 4,
 "nbformat_minor": 5
}
