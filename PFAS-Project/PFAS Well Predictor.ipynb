{
 "cells": [
  {
   "cell_type": "markdown",
   "id": "cb8e93a3",
   "metadata": {},
   "source": [
    "### Predict the groundwater PFAS concentration at a given pair of coordinates using KNearestNeighbors.\n",
    "\n",
    "Using the wealth of groundwater data available in CA this tool will predict the concentration of a PFAS compound for a given set of coordinates using the KNearestNeighbors algorithm. \n",
    "\n",
    "This example is using PFOA\n",
    "\n",
    "The concentration is represented by the following classes:<br>\n",
    "**Class 0**: Not detected<br>\n",
    "**Class 1**: >0 and <=5.1 ppt (the CA water board notification limit)<br>\n",
    "**Class 2**: >5.1 and <=70 ppt<br>\n",
    "**Class 3**: >70 ppt (the US EPA notification limit threshold)<br>\n",
    "\n",
    "The idea for this tool is if you want to know what the groundwater PFOA level is at a well but you have no available data, can we get an accurate prediction of what the concentration would be? This could apply to your private drinkingwater well at your home and you want to know if it is safe to drink (Class 1 or 0 according to regulatory levels).\n"
   ]
  },
  {
   "cell_type": "markdown",
   "id": "621f9f46",
   "metadata": {},
   "source": [
    "First lets import all the libraries we will be using:"
   ]
  },
  {
   "cell_type": "code",
   "execution_count": 1,
   "id": "465a62c9",
   "metadata": {},
   "outputs": [
    {
     "data": {
      "text/html": [
       "\n",
       "    <div class=\"bk-root\">\n",
       "        <a href=\"https://bokeh.org\" target=\"_blank\" class=\"bk-logo bk-logo-small bk-logo-notebook\"></a>\n",
       "        <span id=\"1002\">Loading BokehJS ...</span>\n",
       "    </div>"
      ]
     },
     "metadata": {},
     "output_type": "display_data"
    },
    {
     "data": {
      "application/javascript": [
       "\n",
       "(function(root) {\n",
       "  function now() {\n",
       "    return new Date();\n",
       "  }\n",
       "\n",
       "  const force = true;\n",
       "\n",
       "  if (typeof root._bokeh_onload_callbacks === \"undefined\" || force === true) {\n",
       "    root._bokeh_onload_callbacks = [];\n",
       "    root._bokeh_is_loading = undefined;\n",
       "  }\n",
       "\n",
       "  const JS_MIME_TYPE = 'application/javascript';\n",
       "  const HTML_MIME_TYPE = 'text/html';\n",
       "  const EXEC_MIME_TYPE = 'application/vnd.bokehjs_exec.v0+json';\n",
       "  const CLASS_NAME = 'output_bokeh rendered_html';\n",
       "\n",
       "  /**\n",
       "   * Render data to the DOM node\n",
       "   */\n",
       "  function render(props, node) {\n",
       "    const script = document.createElement(\"script\");\n",
       "    node.appendChild(script);\n",
       "  }\n",
       "\n",
       "  /**\n",
       "   * Handle when an output is cleared or removed\n",
       "   */\n",
       "  function handleClearOutput(event, handle) {\n",
       "    const cell = handle.cell;\n",
       "\n",
       "    const id = cell.output_area._bokeh_element_id;\n",
       "    const server_id = cell.output_area._bokeh_server_id;\n",
       "    // Clean up Bokeh references\n",
       "    if (id != null && id in Bokeh.index) {\n",
       "      Bokeh.index[id].model.document.clear();\n",
       "      delete Bokeh.index[id];\n",
       "    }\n",
       "\n",
       "    if (server_id !== undefined) {\n",
       "      // Clean up Bokeh references\n",
       "      const cmd_clean = \"from bokeh.io.state import curstate; print(curstate().uuid_to_server['\" + server_id + \"'].get_sessions()[0].document.roots[0]._id)\";\n",
       "      cell.notebook.kernel.execute(cmd_clean, {\n",
       "        iopub: {\n",
       "          output: function(msg) {\n",
       "            const id = msg.content.text.trim();\n",
       "            if (id in Bokeh.index) {\n",
       "              Bokeh.index[id].model.document.clear();\n",
       "              delete Bokeh.index[id];\n",
       "            }\n",
       "          }\n",
       "        }\n",
       "      });\n",
       "      // Destroy server and session\n",
       "      const cmd_destroy = \"import bokeh.io.notebook as ion; ion.destroy_server('\" + server_id + \"')\";\n",
       "      cell.notebook.kernel.execute(cmd_destroy);\n",
       "    }\n",
       "  }\n",
       "\n",
       "  /**\n",
       "   * Handle when a new output is added\n",
       "   */\n",
       "  function handleAddOutput(event, handle) {\n",
       "    const output_area = handle.output_area;\n",
       "    const output = handle.output;\n",
       "\n",
       "    // limit handleAddOutput to display_data with EXEC_MIME_TYPE content only\n",
       "    if ((output.output_type != \"display_data\") || (!Object.prototype.hasOwnProperty.call(output.data, EXEC_MIME_TYPE))) {\n",
       "      return\n",
       "    }\n",
       "\n",
       "    const toinsert = output_area.element.find(\".\" + CLASS_NAME.split(' ')[0]);\n",
       "\n",
       "    if (output.metadata[EXEC_MIME_TYPE][\"id\"] !== undefined) {\n",
       "      toinsert[toinsert.length - 1].firstChild.textContent = output.data[JS_MIME_TYPE];\n",
       "      // store reference to embed id on output_area\n",
       "      output_area._bokeh_element_id = output.metadata[EXEC_MIME_TYPE][\"id\"];\n",
       "    }\n",
       "    if (output.metadata[EXEC_MIME_TYPE][\"server_id\"] !== undefined) {\n",
       "      const bk_div = document.createElement(\"div\");\n",
       "      bk_div.innerHTML = output.data[HTML_MIME_TYPE];\n",
       "      const script_attrs = bk_div.children[0].attributes;\n",
       "      for (let i = 0; i < script_attrs.length; i++) {\n",
       "        toinsert[toinsert.length - 1].firstChild.setAttribute(script_attrs[i].name, script_attrs[i].value);\n",
       "        toinsert[toinsert.length - 1].firstChild.textContent = bk_div.children[0].textContent\n",
       "      }\n",
       "      // store reference to server id on output_area\n",
       "      output_area._bokeh_server_id = output.metadata[EXEC_MIME_TYPE][\"server_id\"];\n",
       "    }\n",
       "  }\n",
       "\n",
       "  function register_renderer(events, OutputArea) {\n",
       "\n",
       "    function append_mime(data, metadata, element) {\n",
       "      // create a DOM node to render to\n",
       "      const toinsert = this.create_output_subarea(\n",
       "        metadata,\n",
       "        CLASS_NAME,\n",
       "        EXEC_MIME_TYPE\n",
       "      );\n",
       "      this.keyboard_manager.register_events(toinsert);\n",
       "      // Render to node\n",
       "      const props = {data: data, metadata: metadata[EXEC_MIME_TYPE]};\n",
       "      render(props, toinsert[toinsert.length - 1]);\n",
       "      element.append(toinsert);\n",
       "      return toinsert\n",
       "    }\n",
       "\n",
       "    /* Handle when an output is cleared or removed */\n",
       "    events.on('clear_output.CodeCell', handleClearOutput);\n",
       "    events.on('delete.Cell', handleClearOutput);\n",
       "\n",
       "    /* Handle when a new output is added */\n",
       "    events.on('output_added.OutputArea', handleAddOutput);\n",
       "\n",
       "    /**\n",
       "     * Register the mime type and append_mime function with output_area\n",
       "     */\n",
       "    OutputArea.prototype.register_mime_type(EXEC_MIME_TYPE, append_mime, {\n",
       "      /* Is output safe? */\n",
       "      safe: true,\n",
       "      /* Index of renderer in `output_area.display_order` */\n",
       "      index: 0\n",
       "    });\n",
       "  }\n",
       "\n",
       "  // register the mime type if in Jupyter Notebook environment and previously unregistered\n",
       "  if (root.Jupyter !== undefined) {\n",
       "    const events = require('base/js/events');\n",
       "    const OutputArea = require('notebook/js/outputarea').OutputArea;\n",
       "\n",
       "    if (OutputArea.prototype.mime_types().indexOf(EXEC_MIME_TYPE) == -1) {\n",
       "      register_renderer(events, OutputArea);\n",
       "    }\n",
       "  }\n",
       "\n",
       "  \n",
       "  if (typeof (root._bokeh_timeout) === \"undefined\" || force === true) {\n",
       "    root._bokeh_timeout = Date.now() + 5000;\n",
       "    root._bokeh_failed_load = false;\n",
       "  }\n",
       "\n",
       "  const NB_LOAD_WARNING = {'data': {'text/html':\n",
       "     \"<div style='background-color: #fdd'>\\n\"+\n",
       "     \"<p>\\n\"+\n",
       "     \"BokehJS does not appear to have successfully loaded. If loading BokehJS from CDN, this \\n\"+\n",
       "     \"may be due to a slow or bad network connection. Possible fixes:\\n\"+\n",
       "     \"</p>\\n\"+\n",
       "     \"<ul>\\n\"+\n",
       "     \"<li>re-rerun `output_notebook()` to attempt to load from CDN again, or</li>\\n\"+\n",
       "     \"<li>use INLINE resources instead, as so:</li>\\n\"+\n",
       "     \"</ul>\\n\"+\n",
       "     \"<code>\\n\"+\n",
       "     \"from bokeh.resources import INLINE\\n\"+\n",
       "     \"output_notebook(resources=INLINE)\\n\"+\n",
       "     \"</code>\\n\"+\n",
       "     \"</div>\"}};\n",
       "\n",
       "  function display_loaded() {\n",
       "    const el = document.getElementById(\"1002\");\n",
       "    if (el != null) {\n",
       "      el.textContent = \"BokehJS is loading...\";\n",
       "    }\n",
       "    if (root.Bokeh !== undefined) {\n",
       "      if (el != null) {\n",
       "        el.textContent = \"BokehJS \" + root.Bokeh.version + \" successfully loaded.\";\n",
       "      }\n",
       "    } else if (Date.now() < root._bokeh_timeout) {\n",
       "      setTimeout(display_loaded, 100)\n",
       "    }\n",
       "  }\n",
       "\n",
       "\n",
       "  function run_callbacks() {\n",
       "    try {\n",
       "      root._bokeh_onload_callbacks.forEach(function(callback) {\n",
       "        if (callback != null)\n",
       "          callback();\n",
       "      });\n",
       "    } finally {\n",
       "      delete root._bokeh_onload_callbacks\n",
       "    }\n",
       "    console.debug(\"Bokeh: all callbacks have finished\");\n",
       "  }\n",
       "\n",
       "  function load_libs(css_urls, js_urls, callback) {\n",
       "    if (css_urls == null) css_urls = [];\n",
       "    if (js_urls == null) js_urls = [];\n",
       "\n",
       "    root._bokeh_onload_callbacks.push(callback);\n",
       "    if (root._bokeh_is_loading > 0) {\n",
       "      console.debug(\"Bokeh: BokehJS is being loaded, scheduling callback at\", now());\n",
       "      return null;\n",
       "    }\n",
       "    if (js_urls == null || js_urls.length === 0) {\n",
       "      run_callbacks();\n",
       "      return null;\n",
       "    }\n",
       "    console.debug(\"Bokeh: BokehJS not loaded, scheduling load and callback at\", now());\n",
       "    root._bokeh_is_loading = css_urls.length + js_urls.length;\n",
       "\n",
       "    function on_load() {\n",
       "      root._bokeh_is_loading--;\n",
       "      if (root._bokeh_is_loading === 0) {\n",
       "        console.debug(\"Bokeh: all BokehJS libraries/stylesheets loaded\");\n",
       "        run_callbacks()\n",
       "      }\n",
       "    }\n",
       "\n",
       "    function on_error(url) {\n",
       "      console.error(\"failed to load \" + url);\n",
       "    }\n",
       "\n",
       "    for (let i = 0; i < css_urls.length; i++) {\n",
       "      const url = css_urls[i];\n",
       "      const element = document.createElement(\"link\");\n",
       "      element.onload = on_load;\n",
       "      element.onerror = on_error.bind(null, url);\n",
       "      element.rel = \"stylesheet\";\n",
       "      element.type = \"text/css\";\n",
       "      element.href = url;\n",
       "      console.debug(\"Bokeh: injecting link tag for BokehJS stylesheet: \", url);\n",
       "      document.body.appendChild(element);\n",
       "    }\n",
       "\n",
       "    for (let i = 0; i < js_urls.length; i++) {\n",
       "      const url = js_urls[i];\n",
       "      const element = document.createElement('script');\n",
       "      element.onload = on_load;\n",
       "      element.onerror = on_error.bind(null, url);\n",
       "      element.async = false;\n",
       "      element.src = url;\n",
       "      console.debug(\"Bokeh: injecting script tag for BokehJS library: \", url);\n",
       "      document.head.appendChild(element);\n",
       "    }\n",
       "  };\n",
       "\n",
       "  function inject_raw_css(css) {\n",
       "    const element = document.createElement(\"style\");\n",
       "    element.appendChild(document.createTextNode(css));\n",
       "    document.body.appendChild(element);\n",
       "  }\n",
       "\n",
       "  \n",
       "  const js_urls = [\"https://cdn.bokeh.org/bokeh/release/bokeh-2.4.1.min.js\", \"https://cdn.bokeh.org/bokeh/release/bokeh-gl-2.4.1.min.js\", \"https://cdn.bokeh.org/bokeh/release/bokeh-widgets-2.4.1.min.js\", \"https://cdn.bokeh.org/bokeh/release/bokeh-tables-2.4.1.min.js\", \"https://cdn.bokeh.org/bokeh/release/bokeh-mathjax-2.4.1.min.js\"];\n",
       "  const css_urls = [];\n",
       "  \n",
       "\n",
       "  const inline_js = [\n",
       "    function(Bokeh) {\n",
       "      Bokeh.set_log_level(\"info\");\n",
       "    },\n",
       "    function(Bokeh) {\n",
       "    \n",
       "    \n",
       "    }\n",
       "  ];\n",
       "\n",
       "  function run_inline_js() {\n",
       "    \n",
       "    if (root.Bokeh !== undefined || force === true) {\n",
       "      \n",
       "    for (let i = 0; i < inline_js.length; i++) {\n",
       "      inline_js[i].call(root, root.Bokeh);\n",
       "    }\n",
       "    if (force === true) {\n",
       "        display_loaded();\n",
       "      }} else if (Date.now() < root._bokeh_timeout) {\n",
       "      setTimeout(run_inline_js, 100);\n",
       "    } else if (!root._bokeh_failed_load) {\n",
       "      console.log(\"Bokeh: BokehJS failed to load within specified timeout.\");\n",
       "      root._bokeh_failed_load = true;\n",
       "    } else if (force !== true) {\n",
       "      const cell = $(document.getElementById(\"1002\")).parents('.cell').data().cell;\n",
       "      cell.output_area.append_execute_result(NB_LOAD_WARNING)\n",
       "    }\n",
       "\n",
       "  }\n",
       "\n",
       "  if (root._bokeh_is_loading === 0) {\n",
       "    console.debug(\"Bokeh: BokehJS loaded, going straight to plotting\");\n",
       "    run_inline_js();\n",
       "  } else {\n",
       "    load_libs(css_urls, js_urls, function() {\n",
       "      console.debug(\"Bokeh: BokehJS plotting callback run at\", now());\n",
       "      run_inline_js();\n",
       "    });\n",
       "  }\n",
       "}(window));"
      ],
      "application/vnd.bokehjs_load.v0+json": "\n(function(root) {\n  function now() {\n    return new Date();\n  }\n\n  const force = true;\n\n  if (typeof root._bokeh_onload_callbacks === \"undefined\" || force === true) {\n    root._bokeh_onload_callbacks = [];\n    root._bokeh_is_loading = undefined;\n  }\n\n  \n\n  \n  if (typeof (root._bokeh_timeout) === \"undefined\" || force === true) {\n    root._bokeh_timeout = Date.now() + 5000;\n    root._bokeh_failed_load = false;\n  }\n\n  const NB_LOAD_WARNING = {'data': {'text/html':\n     \"<div style='background-color: #fdd'>\\n\"+\n     \"<p>\\n\"+\n     \"BokehJS does not appear to have successfully loaded. If loading BokehJS from CDN, this \\n\"+\n     \"may be due to a slow or bad network connection. Possible fixes:\\n\"+\n     \"</p>\\n\"+\n     \"<ul>\\n\"+\n     \"<li>re-rerun `output_notebook()` to attempt to load from CDN again, or</li>\\n\"+\n     \"<li>use INLINE resources instead, as so:</li>\\n\"+\n     \"</ul>\\n\"+\n     \"<code>\\n\"+\n     \"from bokeh.resources import INLINE\\n\"+\n     \"output_notebook(resources=INLINE)\\n\"+\n     \"</code>\\n\"+\n     \"</div>\"}};\n\n  function display_loaded() {\n    const el = document.getElementById(\"1002\");\n    if (el != null) {\n      el.textContent = \"BokehJS is loading...\";\n    }\n    if (root.Bokeh !== undefined) {\n      if (el != null) {\n        el.textContent = \"BokehJS \" + root.Bokeh.version + \" successfully loaded.\";\n      }\n    } else if (Date.now() < root._bokeh_timeout) {\n      setTimeout(display_loaded, 100)\n    }\n  }\n\n\n  function run_callbacks() {\n    try {\n      root._bokeh_onload_callbacks.forEach(function(callback) {\n        if (callback != null)\n          callback();\n      });\n    } finally {\n      delete root._bokeh_onload_callbacks\n    }\n    console.debug(\"Bokeh: all callbacks have finished\");\n  }\n\n  function load_libs(css_urls, js_urls, callback) {\n    if (css_urls == null) css_urls = [];\n    if (js_urls == null) js_urls = [];\n\n    root._bokeh_onload_callbacks.push(callback);\n    if (root._bokeh_is_loading > 0) {\n      console.debug(\"Bokeh: BokehJS is being loaded, scheduling callback at\", now());\n      return null;\n    }\n    if (js_urls == null || js_urls.length === 0) {\n      run_callbacks();\n      return null;\n    }\n    console.debug(\"Bokeh: BokehJS not loaded, scheduling load and callback at\", now());\n    root._bokeh_is_loading = css_urls.length + js_urls.length;\n\n    function on_load() {\n      root._bokeh_is_loading--;\n      if (root._bokeh_is_loading === 0) {\n        console.debug(\"Bokeh: all BokehJS libraries/stylesheets loaded\");\n        run_callbacks()\n      }\n    }\n\n    function on_error(url) {\n      console.error(\"failed to load \" + url);\n    }\n\n    for (let i = 0; i < css_urls.length; i++) {\n      const url = css_urls[i];\n      const element = document.createElement(\"link\");\n      element.onload = on_load;\n      element.onerror = on_error.bind(null, url);\n      element.rel = \"stylesheet\";\n      element.type = \"text/css\";\n      element.href = url;\n      console.debug(\"Bokeh: injecting link tag for BokehJS stylesheet: \", url);\n      document.body.appendChild(element);\n    }\n\n    for (let i = 0; i < js_urls.length; i++) {\n      const url = js_urls[i];\n      const element = document.createElement('script');\n      element.onload = on_load;\n      element.onerror = on_error.bind(null, url);\n      element.async = false;\n      element.src = url;\n      console.debug(\"Bokeh: injecting script tag for BokehJS library: \", url);\n      document.head.appendChild(element);\n    }\n  };\n\n  function inject_raw_css(css) {\n    const element = document.createElement(\"style\");\n    element.appendChild(document.createTextNode(css));\n    document.body.appendChild(element);\n  }\n\n  \n  const js_urls = [\"https://cdn.bokeh.org/bokeh/release/bokeh-2.4.1.min.js\", \"https://cdn.bokeh.org/bokeh/release/bokeh-gl-2.4.1.min.js\", \"https://cdn.bokeh.org/bokeh/release/bokeh-widgets-2.4.1.min.js\", \"https://cdn.bokeh.org/bokeh/release/bokeh-tables-2.4.1.min.js\", \"https://cdn.bokeh.org/bokeh/release/bokeh-mathjax-2.4.1.min.js\"];\n  const css_urls = [];\n  \n\n  const inline_js = [\n    function(Bokeh) {\n      Bokeh.set_log_level(\"info\");\n    },\n    function(Bokeh) {\n    \n    \n    }\n  ];\n\n  function run_inline_js() {\n    \n    if (root.Bokeh !== undefined || force === true) {\n      \n    for (let i = 0; i < inline_js.length; i++) {\n      inline_js[i].call(root, root.Bokeh);\n    }\n    if (force === true) {\n        display_loaded();\n      }} else if (Date.now() < root._bokeh_timeout) {\n      setTimeout(run_inline_js, 100);\n    } else if (!root._bokeh_failed_load) {\n      console.log(\"Bokeh: BokehJS failed to load within specified timeout.\");\n      root._bokeh_failed_load = true;\n    } else if (force !== true) {\n      const cell = $(document.getElementById(\"1002\")).parents('.cell').data().cell;\n      cell.output_area.append_execute_result(NB_LOAD_WARNING)\n    }\n\n  }\n\n  if (root._bokeh_is_loading === 0) {\n    console.debug(\"Bokeh: BokehJS loaded, going straight to plotting\");\n    run_inline_js();\n  } else {\n    load_libs(css_urls, js_urls, function() {\n      console.debug(\"Bokeh: BokehJS plotting callback run at\", now());\n      run_inline_js();\n    });\n  }\n}(window));"
     },
     "metadata": {},
     "output_type": "display_data"
    }
   ],
   "source": [
    "import numpy as np\n",
    "from math import radians\n",
    "import matplotlib.pyplot as plt\n",
    "import pandas as pd\n",
    "import scipy as sp\n",
    "from numpy import mean, sqrt, square, arange\n",
    "import numpy as np\n",
    "from sklearn.metrics import mean_squared_error \n",
    "from sklearn import preprocessing\n",
    "import seaborn as sns\n",
    "terrain = sns.color_palette(palette='terrain',n_colors=10)\n",
    "plasma = sns.color_palette(palette='plasma',n_colors=10)\n",
    "rainbow = sns.color_palette(palette='rainbow',n_colors=6)\n",
    "%matplotlib inline\n",
    "\n",
    "from bokeh.io import output_notebook\n",
    "from bokeh.layouts import gridplot,row,column\n",
    "from bokeh.plotting import figure,show\n",
    "output_notebook()\n",
    "\n",
    "import warnings\n",
    "warnings.filterwarnings(\"ignore\", category=DeprecationWarning) "
   ]
  },
  {
   "cell_type": "markdown",
   "id": "4eda6d8f",
   "metadata": {},
   "source": [
    "Next, lets get our california groundwater PFAS data set. This was exported from my database as a CSV and contains all PFOA data for wells in CA."
   ]
  },
  {
   "cell_type": "code",
   "execution_count": 2,
   "id": "fb415cc1",
   "metadata": {},
   "outputs": [
    {
     "data": {
      "text/html": [
       "<div>\n",
       "<style scoped>\n",
       "    .dataframe tbody tr th:only-of-type {\n",
       "        vertical-align: middle;\n",
       "    }\n",
       "\n",
       "    .dataframe tbody tr th {\n",
       "        vertical-align: top;\n",
       "    }\n",
       "\n",
       "    .dataframe thead th {\n",
       "        text-align: right;\n",
       "    }\n",
       "</style>\n",
       "<table border=\"1\" class=\"dataframe\">\n",
       "  <thead>\n",
       "    <tr style=\"text-align: right;\">\n",
       "      <th></th>\n",
       "      <th>Regional Board</th>\n",
       "      <th>Site Name</th>\n",
       "      <th>Global ID</th>\n",
       "      <th>Location ID</th>\n",
       "      <th>Sample ID</th>\n",
       "      <th>Matrix</th>\n",
       "      <th>Chemical</th>\n",
       "      <th>Detected_Value</th>\n",
       "      <th>All_values</th>\n",
       "      <th>Qualifier</th>\n",
       "      <th>...</th>\n",
       "      <th>Units</th>\n",
       "      <th>Date</th>\n",
       "      <th>Field Pt Class</th>\n",
       "      <th>Site Use</th>\n",
       "      <th>Site Type</th>\n",
       "      <th>Address</th>\n",
       "      <th>City</th>\n",
       "      <th>Latitude</th>\n",
       "      <th>Longitude</th>\n",
       "      <th>Class</th>\n",
       "    </tr>\n",
       "  </thead>\n",
       "  <tbody>\n",
       "    <tr>\n",
       "      <th>0</th>\n",
       "      <td>CENTRAL VALLEY RWQCB (REGION 5S)</td>\n",
       "      <td>Linda Cnty Water District WWTP</td>\n",
       "      <td>NPD100051617</td>\n",
       "      <td>PLT INF</td>\n",
       "      <td>Plant Influent</td>\n",
       "      <td>Gas</td>\n",
       "      <td>PFOA</td>\n",
       "      <td>2.0</td>\n",
       "      <td>2.0</td>\n",
       "      <td>=</td>\n",
       "      <td>...</td>\n",
       "      <td>NG/L</td>\n",
       "      <td>8/27/2021</td>\n",
       "      <td>IS</td>\n",
       "      <td>Wastewater Treatment Plants</td>\n",
       "      <td>* NPDES</td>\n",
       "      <td>909 Myrna Avenue</td>\n",
       "      <td>Marysville</td>\n",
       "      <td>39.101390</td>\n",
       "      <td>-121.583990</td>\n",
       "      <td>1</td>\n",
       "    </tr>\n",
       "    <tr>\n",
       "      <th>1</th>\n",
       "      <td>CENTRAL VALLEY RWQCB (REGION 5S)</td>\n",
       "      <td>Linda Cnty Water District WWTP</td>\n",
       "      <td>NPD100051617</td>\n",
       "      <td>PLT EFF</td>\n",
       "      <td>Plant Effluent</td>\n",
       "      <td>Gas</td>\n",
       "      <td>PFOA</td>\n",
       "      <td>6.9</td>\n",
       "      <td>6.9</td>\n",
       "      <td>=</td>\n",
       "      <td>...</td>\n",
       "      <td>NG/L</td>\n",
       "      <td>8/27/2021</td>\n",
       "      <td>ES</td>\n",
       "      <td>Wastewater Treatment Plants</td>\n",
       "      <td>* NPDES</td>\n",
       "      <td>909 Myrna Avenue</td>\n",
       "      <td>Marysville</td>\n",
       "      <td>39.101390</td>\n",
       "      <td>-121.583990</td>\n",
       "      <td>2</td>\n",
       "    </tr>\n",
       "    <tr>\n",
       "      <th>2</th>\n",
       "      <td>CENTRAL COAST RWQCB (REGION 3)</td>\n",
       "      <td>SAN LUIS COUNTY RGNL</td>\n",
       "      <td>T10000012768</td>\n",
       "      <td>GW-2</td>\n",
       "      <td>GW-GW-2</td>\n",
       "      <td>Solid</td>\n",
       "      <td>PFOA</td>\n",
       "      <td>6.2</td>\n",
       "      <td>6.2</td>\n",
       "      <td>=</td>\n",
       "      <td>...</td>\n",
       "      <td>NG/L</td>\n",
       "      <td>5/4/2020</td>\n",
       "      <td>AGIR</td>\n",
       "      <td>Airport</td>\n",
       "      <td>Cleanup Program Site</td>\n",
       "      <td>975 Airport Drive</td>\n",
       "      <td>San luis Obispo</td>\n",
       "      <td>35.238029</td>\n",
       "      <td>-120.649158</td>\n",
       "      <td>2</td>\n",
       "    </tr>\n",
       "    <tr>\n",
       "      <th>3</th>\n",
       "      <td>CENTRAL COAST RWQCB (REGION 3)</td>\n",
       "      <td>SAN LUIS COUNTY RGNL</td>\n",
       "      <td>T10000012768</td>\n",
       "      <td>MW-2P</td>\n",
       "      <td>GW-MW-2-P</td>\n",
       "      <td>Solid</td>\n",
       "      <td>PFOA</td>\n",
       "      <td>0.0</td>\n",
       "      <td>1.8</td>\n",
       "      <td>ND</td>\n",
       "      <td>...</td>\n",
       "      <td>NG/L</td>\n",
       "      <td>5/5/2020</td>\n",
       "      <td>MW</td>\n",
       "      <td>Airport</td>\n",
       "      <td>Cleanup Program Site</td>\n",
       "      <td>975 Airport Drive</td>\n",
       "      <td>San luis Obispo</td>\n",
       "      <td>35.231070</td>\n",
       "      <td>-120.631918</td>\n",
       "      <td>0</td>\n",
       "    </tr>\n",
       "    <tr>\n",
       "      <th>4</th>\n",
       "      <td>CENTRAL COAST RWQCB (REGION 3)</td>\n",
       "      <td>SAN LUIS COUNTY RGNL</td>\n",
       "      <td>T10000012768</td>\n",
       "      <td>MW-2</td>\n",
       "      <td>GW-MW-2</td>\n",
       "      <td>Solid</td>\n",
       "      <td>PFOA</td>\n",
       "      <td>0.0</td>\n",
       "      <td>1.8</td>\n",
       "      <td>ND</td>\n",
       "      <td>...</td>\n",
       "      <td>NG/L</td>\n",
       "      <td>5/5/2020</td>\n",
       "      <td>MW</td>\n",
       "      <td>Airport</td>\n",
       "      <td>Cleanup Program Site</td>\n",
       "      <td>975 Airport Drive</td>\n",
       "      <td>San luis Obispo</td>\n",
       "      <td>35.231086</td>\n",
       "      <td>-120.631969</td>\n",
       "      <td>0</td>\n",
       "    </tr>\n",
       "  </tbody>\n",
       "</table>\n",
       "<p>5 rows × 25 columns</p>\n",
       "</div>"
      ],
      "text/plain": [
       "                     Regional Board                       Site Name  \\\n",
       "0  CENTRAL VALLEY RWQCB (REGION 5S)  Linda Cnty Water District WWTP   \n",
       "1  CENTRAL VALLEY RWQCB (REGION 5S)  Linda Cnty Water District WWTP   \n",
       "2    CENTRAL COAST RWQCB (REGION 3)            SAN LUIS COUNTY RGNL   \n",
       "3    CENTRAL COAST RWQCB (REGION 3)            SAN LUIS COUNTY RGNL   \n",
       "4    CENTRAL COAST RWQCB (REGION 3)            SAN LUIS COUNTY RGNL   \n",
       "\n",
       "      Global ID Location ID       Sample ID Matrix Chemical  Detected_Value  \\\n",
       "0  NPD100051617     PLT INF  Plant Influent    Gas     PFOA             2.0   \n",
       "1  NPD100051617     PLT EFF  Plant Effluent    Gas     PFOA             6.9   \n",
       "2  T10000012768        GW-2         GW-GW-2  Solid     PFOA             6.2   \n",
       "3  T10000012768       MW-2P       GW-MW-2-P  Solid     PFOA             0.0   \n",
       "4  T10000012768        MW-2         GW-MW-2  Solid     PFOA             0.0   \n",
       "\n",
       "   All_values Qualifier  ...  Units       Date  Field Pt Class  \\\n",
       "0         2.0         =  ...   NG/L  8/27/2021              IS   \n",
       "1         6.9         =  ...   NG/L  8/27/2021              ES   \n",
       "2         6.2         =  ...   NG/L   5/4/2020            AGIR   \n",
       "3         1.8        ND  ...   NG/L   5/5/2020              MW   \n",
       "4         1.8        ND  ...   NG/L   5/5/2020              MW   \n",
       "\n",
       "                      Site Use             Site Type            Address  \\\n",
       "0  Wastewater Treatment Plants               * NPDES   909 Myrna Avenue   \n",
       "1  Wastewater Treatment Plants               * NPDES   909 Myrna Avenue   \n",
       "2                      Airport  Cleanup Program Site  975 Airport Drive   \n",
       "3                      Airport  Cleanup Program Site  975 Airport Drive   \n",
       "4                      Airport  Cleanup Program Site  975 Airport Drive   \n",
       "\n",
       "              City   Latitude   Longitude Class  \n",
       "0       Marysville  39.101390 -121.583990     1  \n",
       "1       Marysville  39.101390 -121.583990     2  \n",
       "2  San luis Obispo  35.238029 -120.649158     2  \n",
       "3  San luis Obispo  35.231070 -120.631918     0  \n",
       "4  San luis Obispo  35.231086 -120.631969     0  \n",
       "\n",
       "[5 rows x 25 columns]"
      ]
     },
     "execution_count": 2,
     "metadata": {},
     "output_type": "execute_result"
    }
   ],
   "source": [
    "import pandas as pd\n",
    "pfas_well_df = pd.read_csv(\"PFOA_wells_CA.csv\")\n",
    "pfas_well_df.head()"
   ]
  },
  {
   "cell_type": "code",
   "execution_count": 3,
   "id": "07988e81",
   "metadata": {},
   "outputs": [],
   "source": [
    "#drop nulls\n",
    "pfas_well_df = pfas_well_df.dropna()"
   ]
  },
  {
   "cell_type": "markdown",
   "id": "3a23f94f",
   "metadata": {},
   "source": [
    "Now we need to set up our training data sets and independent variables. There are several variables that can influence how chemicals move in the groundwater including:<br>\n",
    "- soil lithology\n",
    "- groundwater depth\n",
    "- groundwater flow velocity\n",
    "- groundwater flow direction<br>\n",
    "<br>\n",
    "For now we are going to keep it simple and use coordinates or proximity. i.e. if nearby wells are of a specific class, it is likely that the coordinates belong to the same class (nearest neighbor).\n"
   ]
  },
  {
   "cell_type": "code",
   "execution_count": 5,
   "id": "69028700",
   "metadata": {},
   "outputs": [
    {
     "data": {
      "text/html": [
       "<div>\n",
       "<style scoped>\n",
       "    .dataframe tbody tr th:only-of-type {\n",
       "        vertical-align: middle;\n",
       "    }\n",
       "\n",
       "    .dataframe tbody tr th {\n",
       "        vertical-align: top;\n",
       "    }\n",
       "\n",
       "    .dataframe thead th {\n",
       "        text-align: right;\n",
       "    }\n",
       "</style>\n",
       "<table border=\"1\" class=\"dataframe\">\n",
       "  <thead>\n",
       "    <tr style=\"text-align: right;\">\n",
       "      <th></th>\n",
       "      <th>Latitude</th>\n",
       "      <th>Longitude</th>\n",
       "    </tr>\n",
       "  </thead>\n",
       "  <tbody>\n",
       "    <tr>\n",
       "      <th>11</th>\n",
       "      <td>35.239060</td>\n",
       "      <td>-120.638060</td>\n",
       "    </tr>\n",
       "    <tr>\n",
       "      <th>34</th>\n",
       "      <td>36.517963</td>\n",
       "      <td>-119.587906</td>\n",
       "    </tr>\n",
       "    <tr>\n",
       "      <th>35</th>\n",
       "      <td>36.517963</td>\n",
       "      <td>-119.587906</td>\n",
       "    </tr>\n",
       "    <tr>\n",
       "      <th>36</th>\n",
       "      <td>38.883523</td>\n",
       "      <td>-121.107111</td>\n",
       "    </tr>\n",
       "    <tr>\n",
       "      <th>38</th>\n",
       "      <td>40.162944</td>\n",
       "      <td>-122.221228</td>\n",
       "    </tr>\n",
       "    <tr>\n",
       "      <th>...</th>\n",
       "      <td>...</td>\n",
       "      <td>...</td>\n",
       "    </tr>\n",
       "    <tr>\n",
       "      <th>4833</th>\n",
       "      <td>34.236390</td>\n",
       "      <td>-119.258610</td>\n",
       "    </tr>\n",
       "    <tr>\n",
       "      <th>4839</th>\n",
       "      <td>38.983570</td>\n",
       "      <td>-122.627050</td>\n",
       "    </tr>\n",
       "    <tr>\n",
       "      <th>4841</th>\n",
       "      <td>34.236390</td>\n",
       "      <td>-119.258610</td>\n",
       "    </tr>\n",
       "    <tr>\n",
       "      <th>4859</th>\n",
       "      <td>34.462431</td>\n",
       "      <td>-118.585804</td>\n",
       "    </tr>\n",
       "    <tr>\n",
       "      <th>4861</th>\n",
       "      <td>33.613290</td>\n",
       "      <td>-117.927670</td>\n",
       "    </tr>\n",
       "  </tbody>\n",
       "</table>\n",
       "<p>1158 rows × 2 columns</p>\n",
       "</div>"
      ],
      "text/plain": [
       "       Latitude   Longitude\n",
       "11    35.239060 -120.638060\n",
       "34    36.517963 -119.587906\n",
       "35    36.517963 -119.587906\n",
       "36    38.883523 -121.107111\n",
       "38    40.162944 -122.221228\n",
       "...         ...         ...\n",
       "4833  34.236390 -119.258610\n",
       "4839  38.983570 -122.627050\n",
       "4841  34.236390 -119.258610\n",
       "4859  34.462431 -118.585804\n",
       "4861  33.613290 -117.927670\n",
       "\n",
       "[1158 rows x 2 columns]"
      ]
     },
     "execution_count": 5,
     "metadata": {},
     "output_type": "execute_result"
    }
   ],
   "source": [
    "#X = pfas_well_df[['Latitude', 'Longitude']].values\n",
    "X = pd.concat([pfas_well_df['Latitude'], pfas_well_df['Longitude']],axis=1)\n",
    "y = pfas_well_df['Class']\n",
    "X"
   ]
  },
  {
   "cell_type": "code",
   "execution_count": 6,
   "id": "9d570ecc",
   "metadata": {},
   "outputs": [],
   "source": [
    "from sklearn.model_selection import train_test_split\n",
    "X_train, X_test, y_train, y_test = train_test_split(X, y, test_size=0.2,random_state=1)"
   ]
  },
  {
   "cell_type": "code",
   "execution_count": 7,
   "id": "0af31fd1",
   "metadata": {},
   "outputs": [
    {
     "name": "stdout",
     "output_type": "stream",
     "text": [
      "Train set: (926, 2) (926,)\n",
      "Test set: (232, 2) (232,)\n"
     ]
    }
   ],
   "source": [
    "print ('Train set:', X_train.shape,  y_train.shape)\n",
    "print ('Test set:', X_test.shape,  y_test.shape)"
   ]
  },
  {
   "cell_type": "code",
   "execution_count": 8,
   "id": "a771266e",
   "metadata": {},
   "outputs": [
    {
     "data": {
      "text/html": [
       "\n",
       "\n",
       "\n",
       "\n",
       "\n",
       "\n",
       "  <div class=\"bk-root\" id=\"27c7cd0a-3b82-4e2c-b156-510d51b0c5f1\" data-root-id=\"1003\"></div>\n"
      ]
     },
     "metadata": {},
     "output_type": "display_data"
    },
    {
     "data": {
      "application/javascript": [
       "(function(root) {\n",
       "  function embed_document(root) {\n",
       "    \n",
       "  const docs_json = {\"fb184167-51ca-4fe9-929e-5954c47a21d4\":{\"defs\":[],\"roots\":{\"references\":[{\"attributes\":{\"below\":[{\"id\":\"1014\"}],\"center\":[{\"id\":\"1017\"},{\"id\":\"1021\"},{\"id\":\"1052\"}],\"left\":[{\"id\":\"1018\"}],\"renderers\":[{\"id\":\"1040\"},{\"id\":\"1058\"},{\"id\":\"1077\"},{\"id\":\"1098\"}],\"title\":{\"id\":\"1004\"},\"toolbar\":{\"id\":\"1029\"},\"x_range\":{\"id\":\"1006\"},\"x_scale\":{\"id\":\"1010\"},\"y_range\":{\"id\":\"1008\"},\"y_scale\":{\"id\":\"1012\"}},\"id\":\"1003\",\"subtype\":\"Figure\",\"type\":\"Plot\"},{\"attributes\":{\"coordinates\":null,\"data_source\":{\"id\":\"1054\"},\"glyph\":{\"id\":\"1055\"},\"group\":null,\"hover_glyph\":null,\"muted_glyph\":{\"id\":\"1057\"},\"nonselection_glyph\":{\"id\":\"1056\"},\"view\":{\"id\":\"1059\"}},\"id\":\"1058\",\"type\":\"GlyphRenderer\"},{\"attributes\":{\"fill_alpha\":{\"value\":0.2},\"fill_color\":{\"value\":\"#75e37d\"},\"hatch_alpha\":{\"value\":0.2},\"hatch_color\":{\"value\":\"#75e37d\"},\"line_alpha\":{\"value\":0.2},\"line_color\":{\"value\":\"#75e37d\"},\"size\":{\"value\":3},\"x\":{\"field\":\"x\"},\"y\":{\"field\":\"y\"}},\"id\":\"1057\",\"type\":\"Circle\"},{\"attributes\":{\"fill_alpha\":{\"value\":0.5},\"fill_color\":{\"value\":\"#d5546e\"},\"hatch_color\":{\"value\":\"#d5546e\"},\"line_alpha\":{\"value\":0.5},\"line_color\":{\"value\":\"#d5546e\"},\"size\":{\"value\":3},\"x\":{\"field\":\"x\"},\"y\":{\"field\":\"y\"}},\"id\":\"1095\",\"type\":\"Circle\"},{\"attributes\":{},\"id\":\"1114\",\"type\":\"Selection\"},{\"attributes\":{\"source\":{\"id\":\"1054\"}},\"id\":\"1059\",\"type\":\"CDSView\"},{\"attributes\":{\"fill_alpha\":{\"value\":0.2},\"fill_color\":{\"value\":\"#fcd225\"},\"hatch_alpha\":{\"value\":0.2},\"hatch_color\":{\"value\":\"#fcd225\"},\"line_alpha\":{\"value\":0.2},\"line_color\":{\"value\":\"#fcd225\"},\"size\":{\"value\":3},\"x\":{\"field\":\"x\"},\"y\":{\"field\":\"y\"}},\"id\":\"1076\",\"type\":\"Circle\"},{\"attributes\":{\"coordinates\":null,\"data_source\":{\"id\":\"1073\"},\"glyph\":{\"id\":\"1074\"},\"group\":null,\"hover_glyph\":null,\"muted_glyph\":{\"id\":\"1076\"},\"nonselection_glyph\":{\"id\":\"1075\"},\"view\":{\"id\":\"1078\"}},\"id\":\"1077\",\"type\":\"GlyphRenderer\"},{\"attributes\":{\"coordinates\":null,\"data_source\":{\"id\":\"1094\"},\"glyph\":{\"id\":\"1095\"},\"group\":null,\"hover_glyph\":null,\"muted_glyph\":{\"id\":\"1097\"},\"nonselection_glyph\":{\"id\":\"1096\"},\"view\":{\"id\":\"1099\"}},\"id\":\"1098\",\"type\":\"GlyphRenderer\"},{\"attributes\":{\"fill_alpha\":{\"value\":0.5},\"fill_color\":{\"value\":\"#00a8d0\"},\"hatch_color\":{\"value\":\"#00a8d0\"},\"line_alpha\":{\"value\":0.5},\"line_color\":{\"value\":\"#00a8d0\"},\"size\":{\"value\":3},\"x\":{\"field\":\"x\"},\"y\":{\"field\":\"y\"}},\"id\":\"1037\",\"type\":\"Circle\"},{\"attributes\":{\"data\":{\"x\":{\"__ndarray__\":\"VJFlHH5RXcAxe9l22lFdwFSRZRx+UV3APjoaLMH1XcA+OhoswfVdwLlJVo9Fkl7AlWBxOPNlXsCwyRr1EL9dwPAC23f7iF3Ah6JAn0iJXcCwyRr1EL9dwEpoJnMHi17APjoaLMH1XcA+OhoswfVdwD46GizB9V3APjoaLMH1XcA+OhoswfVdwEK9z6dEml7AQr3Pp0SaXsCFKpA0k3VdwPsemh65j17ABtodUoyPXsBkvs0s049ewA==\",\"dtype\":\"float64\",\"order\":\"little\",\"shape\":[23]},\"y\":{\"__ndarray__\":\"QsVh/kSQQECORD+F6Y9AQELFYf5EkEBACMewszY3QUAIx7CzNjdBQJu4TZ860UNATGw+rg1ZQ0ALQQ5KmKlBQIuSqeV7akFAaziXqH9rQUALQQ5KmKlBQCicH3f4vkJACMewszY3QUAIx7CzNjdBQAjHsLM2N0FACMewszY3QUAIx7CzNjdBQNzQOeQLSURA3NA55AtJREDY1LtwTtBAQJRgu8UNBkNAJbA5B88FQ0BJyWHm8QVDQA==\",\"dtype\":\"float64\",\"order\":\"little\",\"shape\":[23]}},\"selected\":{\"id\":\"1114\"},\"selection_policy\":{\"id\":\"1113\"}},\"id\":\"1094\",\"type\":\"ColumnDataSource\"},{\"attributes\":{\"fill_alpha\":{\"value\":0.2},\"fill_color\":{\"value\":\"#d5546e\"},\"hatch_alpha\":{\"value\":0.2},\"hatch_color\":{\"value\":\"#d5546e\"},\"line_alpha\":{\"value\":0.2},\"line_color\":{\"value\":\"#d5546e\"},\"size\":{\"value\":3},\"x\":{\"field\":\"x\"},\"y\":{\"field\":\"y\"}},\"id\":\"1097\",\"type\":\"Circle\"},{\"attributes\":{\"label\":{\"value\":\"Class 1\"},\"renderers\":[{\"id\":\"1058\"}]},\"id\":\"1072\",\"type\":\"LegendItem\"},{\"attributes\":{\"fill_alpha\":{\"value\":0.5},\"fill_color\":{\"value\":\"#75e37d\"},\"hatch_color\":{\"value\":\"#75e37d\"},\"line_alpha\":{\"value\":0.5},\"line_color\":{\"value\":\"#75e37d\"},\"size\":{\"value\":3},\"x\":{\"field\":\"x\"},\"y\":{\"field\":\"y\"}},\"id\":\"1055\",\"type\":\"Circle\"},{\"attributes\":{\"source\":{\"id\":\"1073\"}},\"id\":\"1078\",\"type\":\"CDSView\"},{\"attributes\":{},\"id\":\"1050\",\"type\":\"Selection\"},{\"attributes\":{\"fill_alpha\":{\"value\":0.1},\"fill_color\":{\"value\":\"#fcd225\"},\"hatch_alpha\":{\"value\":0.1},\"hatch_color\":{\"value\":\"#fcd225\"},\"line_alpha\":{\"value\":0.1},\"line_color\":{\"value\":\"#fcd225\"},\"size\":{\"value\":3},\"x\":{\"field\":\"x\"},\"y\":{\"field\":\"y\"}},\"id\":\"1075\",\"type\":\"Circle\"},{\"attributes\":{\"source\":{\"id\":\"1094\"}},\"id\":\"1099\",\"type\":\"CDSView\"},{\"attributes\":{\"label\":{\"value\":\"Class 2\"},\"renderers\":[{\"id\":\"1077\"}]},\"id\":\"1093\",\"type\":\"LegendItem\"},{\"attributes\":{},\"id\":\"1049\",\"type\":\"UnionRenderers\"},{\"attributes\":{},\"id\":\"1070\",\"type\":\"Selection\"},{\"attributes\":{\"fill_alpha\":{\"value\":0.1},\"fill_color\":{\"value\":\"#75e37d\"},\"hatch_alpha\":{\"value\":0.1},\"hatch_color\":{\"value\":\"#75e37d\"},\"line_alpha\":{\"value\":0.1},\"line_color\":{\"value\":\"#75e37d\"},\"size\":{\"value\":3},\"x\":{\"field\":\"x\"},\"y\":{\"field\":\"y\"}},\"id\":\"1056\",\"type\":\"Circle\"},{\"attributes\":{\"fill_alpha\":{\"value\":0.1},\"fill_color\":{\"value\":\"#d5546e\"},\"hatch_alpha\":{\"value\":0.1},\"hatch_color\":{\"value\":\"#d5546e\"},\"line_alpha\":{\"value\":0.1},\"line_color\":{\"value\":\"#d5546e\"},\"size\":{\"value\":3},\"x\":{\"field\":\"x\"},\"y\":{\"field\":\"y\"}},\"id\":\"1096\",\"type\":\"Circle\"},{\"attributes\":{\"label\":{\"value\":\"Class 3\"},\"renderers\":[{\"id\":\"1098\"}]},\"id\":\"1116\",\"type\":\"LegendItem\"},{\"attributes\":{},\"id\":\"1069\",\"type\":\"UnionRenderers\"},{\"attributes\":{},\"id\":\"1090\",\"type\":\"UnionRenderers\"},{\"attributes\":{\"bottom_units\":\"screen\",\"coordinates\":null,\"fill_alpha\":0.5,\"fill_color\":\"lightgrey\",\"group\":null,\"left_units\":\"screen\",\"level\":\"overlay\",\"line_alpha\":1.0,\"line_color\":\"black\",\"line_dash\":[4,4],\"line_width\":2,\"right_units\":\"screen\",\"syncable\":false,\"top_units\":\"screen\"},\"id\":\"1028\",\"type\":\"BoxAnnotation\"},{\"attributes\":{},\"id\":\"1091\",\"type\":\"Selection\"},{\"attributes\":{\"fill_alpha\":{\"value\":0.5},\"fill_color\":{\"value\":\"#fcd225\"},\"hatch_color\":{\"value\":\"#fcd225\"},\"line_alpha\":{\"value\":0.5},\"line_color\":{\"value\":\"#fcd225\"},\"size\":{\"value\":3},\"x\":{\"field\":\"x\"},\"y\":{\"field\":\"y\"}},\"id\":\"1074\",\"type\":\"Circle\"},{\"attributes\":{},\"id\":\"1113\",\"type\":\"UnionRenderers\"},{\"attributes\":{},\"id\":\"1026\",\"type\":\"ResetTool\"},{\"attributes\":{\"data\":{\"x\":{\"__ndarray__\":\"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\",\"dtype\":\"float64\",\"order\":\"little\",\"shape\":[309]},\"y\":{\"__ndarray__\":\"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\",\"dtype\":\"float64\",\"order\":\"little\",\"shape\":[309]}},\"selected\":{\"id\":\"1091\"},\"selection_policy\":{\"id\":\"1090\"}},\"id\":\"1073\",\"type\":\"ColumnDataSource\"},{\"attributes\":{},\"id\":\"1025\",\"type\":\"SaveTool\"},{\"attributes\":{\"coordinates\":null,\"data_source\":{\"id\":\"1036\"},\"glyph\":{\"id\":\"1037\"},\"group\":null,\"hover_glyph\":null,\"muted_glyph\":{\"id\":\"1039\"},\"nonselection_glyph\":{\"id\":\"1038\"},\"view\":{\"id\":\"1041\"}},\"id\":\"1040\",\"type\":\"GlyphRenderer\"},{\"attributes\":{\"overlay\":{\"id\":\"1028\"}},\"id\":\"1024\",\"type\":\"BoxZoomTool\"},{\"attributes\":{},\"id\":\"1022\",\"type\":\"PanTool\"},{\"attributes\":{\"fill_alpha\":{\"value\":0.2},\"fill_color\":{\"value\":\"#00a8d0\"},\"hatch_alpha\":{\"value\":0.2},\"hatch_color\":{\"value\":\"#00a8d0\"},\"line_alpha\":{\"value\":0.2},\"line_color\":{\"value\":\"#00a8d0\"},\"size\":{\"value\":3},\"x\":{\"field\":\"x\"},\"y\":{\"field\":\"y\"}},\"id\":\"1039\",\"type\":\"Circle\"},{\"attributes\":{},\"id\":\"1023\",\"type\":\"WheelZoomTool\"},{\"attributes\":{\"tools\":[{\"id\":\"1022\"},{\"id\":\"1023\"},{\"id\":\"1024\"},{\"id\":\"1025\"},{\"id\":\"1026\"},{\"id\":\"1027\"}]},\"id\":\"1029\",\"type\":\"Toolbar\"},{\"attributes\":{},\"id\":\"1047\",\"type\":\"BasicTickFormatter\"},{\"attributes\":{},\"id\":\"1019\",\"type\":\"BasicTicker\"},{\"attributes\":{\"axis\":{\"id\":\"1018\"},\"coordinates\":null,\"dimension\":1,\"group\":null,\"ticker\":null},\"id\":\"1021\",\"type\":\"Grid\"},{\"attributes\":{\"data\":{\"x\":{\"__ndarray__\":\"XIBsSJKtXcAMRtvnZ5lewMyK8hZZrl3AoblOIy2TXcChuU4jLZNdwKG5TiMtk13AoblOIy2TXcChuU4jLZNdwKG5TiMtk13ANZiG4SMKX8A1mIbhIwpfwDWYhuEjCl/A1sl0Q652XcDWyXRDrnZdwL2KjA7IlV3A2O1YEdqVXcDY7VgR2pVdwLhAguLHlV3AvYqMDsiVXcBnmxvTE45dwGebG9MTjl3AZ5sb0xOOXcBnmxvTE45dwBXj/E0oNF3AbB4sCIp0XcBsHiwIinRdwF8pyxDHRF3A32sIjss/XcB6U5EKY5lewHpTkQpjmV7AZLrGHSWYXcCq86j4v+JdwHr9SXzucl3AZLrGHSWYXcAK16NwPZpdwMvY0M3+l13AGm1VEtmYXcCnuAWmLpldwGS6xh0lmF3ACtejcD2aXcDp/qDkRJldwKe4BaYumV3Ap7gFpi6ZXcB7FK5H4bpdwBk3NdD8QV7AzEbn/BSeXcCiXYWUnzxdwBXj/E0oNF3AexSuR+G6XcAJxOv6BeddwIi6D0Bq513AxapBmNvmXcBCGfTvxHhdwB5XfnTFeF3AlWBxOPNlXsCVYHE482VewPMaYIsCe13AVLzbBn+aXcBX9aiusntdwE/5IYDlTl7AT/khgOVOXsCs2n+ux4ldwIeX8QBgd17Aev1JfO5yXcDGbworFZ5dwMvY0M3+l13AZLrGHSWYXcBkusYdJZhdwDMeAMyQh13ARn5Yyo2HXcD/WfPjL2dewM6I0t7g2V3A9NQ0OUaAXcAK16NwPZpdwMRjmkQYmV3AGm1VEtmYXcBFXEqnP5hdwF+1MuGXTl3AJQhXQKF7XcAoYhHDjntdwPPTbqqkel3AFVPpJ5x6XcB4wZYNoXtdwNoGSfqPe13Adfy8To97XcDWR5aCpHpdwLfVB+2wfF3At9UH7bB8XcBYHM78anZewFgczvxqdl7A6wMk9XmTXcDrAyT1eZNdwOsDJPV5k13A6wMk9XmTXcCKsOHpFXxdwIOj5NU5el3AwspXuJt6XcDutfuwOXpdwEngavjxjF3ASeBq+PGMXcBJ4Gr48YxdwEngavjxjF3ASeBq+PGMXcBJ4Gr48YxdwEngavjxjF3AZLrGHSWYXcANbJVgcVxewD4kfO9vlF3A3QcgtYmJXcA8hVypZ8NdwEJOTqP/eF3AZ0Y/Gk56XcC4j4HhAXxdwEddxqjGd13ArtPtkfJ6XcBCTk6j/3hdwGdGPxpOel3AZI6KpAJ7XcCCFOHL6XpdwN9rCI7LP13AZLrGHSWYXcCeYWpLHbRdwBw4sdEDkl3ACIVSxZ6OXcDY6ay7no5dwEsOjkhKj13A9cjVfiGRXcCHinH+JtpdwKe4BaYumV3AXMZNDTR5XcBrVzIRAHldwCnhrgOMeV3AW46hrRR7XcBOlZRgFnxdwAs71tYZe13AexSuR+G6XcA+JHzvb5RdwPlOzHoxwF3APiR872+UXcA8hVypZ8NdwNbJdEOudl3AWJ+82TBaXsAljAusCFpewB6YkpuXU13AytMDMK9TXcAZ3lEIiV9ewBneUQiJX17A8tJNYhBeXsCEoKNVrV1ewD6uslvwh17APq6yW/CHXsBEeGrkKd1dwJ8MRAW9lV7AnwxEBb2VXsAECeXY1XlewMIB488mQl3AwgHjzyZCXcB/7apRWWddwGfo6W39Z13A1qvI6IBqXcDDjN/KyGZdwHTY2IDjaV3AzMKNSqBBXcDMwo1KoEFdwJstakG5QV3AYEPLFblBXcBgQ8sVuUFdwIgWNIjqXV3AiBY0iOpdXcA2PL1SlltewIIvljOln17ADaQwlLiHXcANpDCUuIddwB2/AXfqh13ADaQwlLiHXcDZMWQrngxewNkxZCueDF7Ak2KRcOtGXcCTYpFw60ZdwG+70Fyn9V3Al/A60eSGXsCemPViKEddwF9DcFzGjF3AX0NwXMaMXcDMwo1KoEFdwJstakG5QV3AYEPLFblBXcDithGqr3dewKngSzx7XF3A196nqtADXcC6RQXz/EZdwLc7tUR4Rl3AA6rJnWNRXcAipBOubFZdwKMCJ9tANF3AQou2dBZvXcBCi7Z0Fm9dwBxsoK8PdV3AHGygrw91XcAj7CXX3lVewOsGZXWGSF7AO+UsRyNJXsCt3AvMCpdewEnim1xCWF7AV/oakw9YXsBHj9/b9I9ewEt2bATi613AiljEsMNoXsDRdHYyOEBewNF0djI4QF7A0XR2MjhAXsDRdHYyOEBewNF0djI4QF7A0XR2MjhAXsDRdHYyOEBewNF0djI4QF7A0XR2MjhAXsDKGvUQjdBdwNF0djI4QF7A0XR2MjhAXsDRdHYyOEBewNF0djI4QF7A0XR2MjhAXsDRdHYyOEBewNF0djI4QF7A0XR2MjhAXsDRdHYyOEBewNF0djI4QF7A0XR2MjhAXsAl6ZrJNzNewFvNOuP7gV7A0XR2MjhAXsDRdHYyOEBewNF0djI4QF7AqvOo+L/iXcDKGvUQjdBdwMoa9RCN0F3AbHcP0H2lXcA=\",\"dtype\":\"float64\",\"order\":\"little\",\"shape\":[238]},\"y\":{\"__ndarray__\":\"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\",\"dtype\":\"float64\",\"order\":\"little\",\"shape\":[238]}},\"selected\":{\"id\":\"1070\"},\"selection_policy\":{\"id\":\"1069\"}},\"id\":\"1054\",\"type\":\"ColumnDataSource\"},{\"attributes\":{},\"id\":\"1045\",\"type\":\"AllLabels\"},{\"attributes\":{\"axis_label\":\"longitude\",\"coordinates\":null,\"formatter\":{\"id\":\"1047\"},\"group\":null,\"major_label_policy\":{\"id\":\"1048\"},\"ticker\":{\"id\":\"1015\"}},\"id\":\"1014\",\"type\":\"LinearAxis\"},{\"attributes\":{},\"id\":\"1044\",\"type\":\"BasicTickFormatter\"},{\"attributes\":{},\"id\":\"1012\",\"type\":\"LinearScale\"},{\"attributes\":{\"label\":{\"value\":\"Class 0\"},\"renderers\":[{\"id\":\"1040\"}]},\"id\":\"1053\",\"type\":\"LegendItem\"},{\"attributes\":{\"axis_label\":\"latitude\",\"coordinates\":null,\"formatter\":{\"id\":\"1044\"},\"group\":null,\"major_label_policy\":{\"id\":\"1045\"},\"ticker\":{\"id\":\"1019\"}},\"id\":\"1018\",\"type\":\"LinearAxis\"},{\"attributes\":{\"fill_alpha\":{\"value\":0.1},\"fill_color\":{\"value\":\"#00a8d0\"},\"hatch_alpha\":{\"value\":0.1},\"hatch_color\":{\"value\":\"#00a8d0\"},\"line_alpha\":{\"value\":0.1},\"line_color\":{\"value\":\"#00a8d0\"},\"size\":{\"value\":3},\"x\":{\"field\":\"x\"},\"y\":{\"field\":\"y\"}},\"id\":\"1038\",\"type\":\"Circle\"},{\"attributes\":{\"axis\":{\"id\":\"1014\"},\"coordinates\":null,\"group\":null,\"ticker\":null},\"id\":\"1017\",\"type\":\"Grid\"},{\"attributes\":{\"coordinates\":null,\"group\":null,\"items\":[{\"id\":\"1053\"},{\"id\":\"1072\"},{\"id\":\"1093\"},{\"id\":\"1116\"}]},\"id\":\"1052\",\"type\":\"Legend\"},{\"attributes\":{},\"id\":\"1015\",\"type\":\"BasicTicker\"},{\"attributes\":{},\"id\":\"1048\",\"type\":\"AllLabels\"},{\"attributes\":{},\"id\":\"1027\",\"type\":\"HelpTool\"},{\"attributes\":{\"coordinates\":null,\"group\":null,\"text\":\"Well Classification\"},\"id\":\"1004\",\"type\":\"Title\"},{\"attributes\":{},\"id\":\"1010\",\"type\":\"LinearScale\"},{\"attributes\":{\"data\":{\"x\":{\"__ndarray__\":\"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\",\"dtype\":\"float64\",\"order\":\"little\",\"shape\":[588]},\"y\":{\"__ndarray__\":\"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\",\"dtype\":\"float64\",\"order\":\"little\",\"shape\":[588]}},\"selected\":{\"id\":\"1050\"},\"selection_policy\":{\"id\":\"1049\"}},\"id\":\"1036\",\"type\":\"ColumnDataSource\"},{\"attributes\":{\"end\":-114.2,\"start\":-124.4},\"id\":\"1006\",\"type\":\"Range1d\"},{\"attributes\":{\"source\":{\"id\":\"1036\"}},\"id\":\"1041\",\"type\":\"CDSView\"},{\"attributes\":{\"end\":42.0,\"start\":32.5},\"id\":\"1008\",\"type\":\"Range1d\"}],\"root_ids\":[\"1003\"]},\"title\":\"Bokeh Application\",\"version\":\"2.4.1\"}};\n",
       "  const render_items = [{\"docid\":\"fb184167-51ca-4fe9-929e-5954c47a21d4\",\"notebook_comms_target\":\"1133\",\"root_ids\":[\"1003\"],\"roots\":{\"1003\":\"27c7cd0a-3b82-4e2c-b156-510d51b0c5f1\"}}];\n",
       "  root.Bokeh.embed.embed_items_notebook(docs_json, render_items);\n",
       "\n",
       "  }\n",
       "  if (root.Bokeh !== undefined) {\n",
       "    embed_document(root);\n",
       "  } else {\n",
       "    let attempts = 0;\n",
       "    const timer = setInterval(function(root) {\n",
       "      if (root.Bokeh !== undefined) {\n",
       "        clearInterval(timer);\n",
       "        embed_document(root);\n",
       "      } else {\n",
       "        attempts++;\n",
       "        if (attempts > 100) {\n",
       "          clearInterval(timer);\n",
       "          console.log(\"Bokeh: ERROR: Unable to run BokehJS code because BokehJS library is missing\");\n",
       "        }\n",
       "      }\n",
       "    }, 10, root)\n",
       "  }\n",
       "})(window);"
      ],
      "application/vnd.bokehjs_exec.v0+json": ""
     },
     "metadata": {
      "application/vnd.bokehjs_exec.v0+json": {
       "id": "1003"
      }
     },
     "output_type": "display_data"
    },
    {
     "data": {
      "text/html": [
       "<p><code>&lt;Bokeh Notebook handle for <strong>In[8]</strong>&gt;</code></p>"
      ],
      "text/plain": [
       "<bokeh.io.notebook.CommsHandle at 0x224c11610a0>"
      ]
     },
     "execution_count": 8,
     "metadata": {},
     "output_type": "execute_result"
    }
   ],
   "source": [
    "#generate figure of locations\n",
    "p = figure(title=\"Well Classification\",y_range=(32.5,42.0),x_range=(-124.4,-114.2))\n",
    "p.xaxis.axis_label = 'longitude'\n",
    "p.yaxis.axis_label = 'latitude'\n",
    "zero_Lat=pfas_well_df['Latitude'][pfas_well_df['Class']==0]\n",
    "zero_Long=pfas_well_df['Longitude'][pfas_well_df['Class']==0]\n",
    "one_Lat=pfas_well_df['Latitude'][pfas_well_df['Class']==1]\n",
    "one_Long=pfas_well_df['Longitude'][pfas_well_df['Class']==1]\n",
    "two_Lat=pfas_well_df['Latitude'][pfas_well_df['Class']==2]\n",
    "two_Long=pfas_well_df['Longitude'][pfas_well_df['Class']==2]\n",
    "three_Lat=pfas_well_df['Latitude'][pfas_well_df['Class']==3]\n",
    "three_Long=pfas_well_df['Longitude'][pfas_well_df['Class']==3]\n",
    "p.circle(zero_Long,zero_Lat,size=3,color=terrain.as_hex()[1],fill_alpha=0.5,line_alpha=0.5,legend_label='Class 0')\n",
    "p.circle(one_Long,one_Lat,size=3,color=terrain.as_hex()[3],fill_alpha=0.5,line_alpha=0.5,legend_label='Class 1')\n",
    "p.circle(two_Long,two_Lat,size=3,color=plasma.as_hex()[9],fill_alpha=0.5,line_alpha=0.5,legend_label='Class 2')\n",
    "p.circle(three_Long,three_Lat,size=3,color=plasma.as_hex()[5],fill_alpha=0.5,line_alpha=0.5,legend_label='Class 3')\n",
    "show(p, notebook_handle=True)"
   ]
  },
  {
   "cell_type": "markdown",
   "id": "923bfc77",
   "metadata": {},
   "source": [
    "Here we can see a graph of the distributions of all our data by class."
   ]
  },
  {
   "cell_type": "code",
   "execution_count": 9,
   "id": "ba862565",
   "metadata": {},
   "outputs": [
    {
     "data": {
      "text/html": [
       "\n",
       "\n",
       "\n",
       "\n",
       "\n",
       "\n",
       "  <div class=\"bk-root\" id=\"ab009772-0f36-4547-839e-573e8043df57\" data-root-id=\"1414\"></div>\n"
      ]
     },
     "metadata": {},
     "output_type": "display_data"
    },
    {
     "data": {
      "application/javascript": [
       "(function(root) {\n",
       "  function embed_document(root) {\n",
       "    \n",
       "  const docs_json = {\"ada08890-5547-48ae-83f9-be683a85476c\":{\"defs\":[],\"roots\":{\"references\":[{\"attributes\":{\"children\":[{\"id\":\"1214\"},{\"id\":\"1264\"},{\"id\":\"1314\"},{\"id\":\"1364\"}]},\"id\":\"1414\",\"type\":\"Column\"},{\"attributes\":{},\"id\":\"1286\",\"type\":\"ResetTool\"},{\"attributes\":{},\"id\":\"1285\",\"type\":\"SaveTool\"},{\"attributes\":{\"coordinates\":null,\"data_source\":{\"id\":\"1396\"},\"glyph\":{\"id\":\"1397\"},\"group\":null,\"hover_glyph\":null,\"muted_glyph\":{\"id\":\"1399\"},\"nonselection_glyph\":{\"id\":\"1398\"},\"view\":{\"id\":\"1401\"}},\"id\":\"1400\",\"type\":\"GlyphRenderer\"},{\"attributes\":{\"source\":{\"id\":\"1396\"}},\"id\":\"1401\",\"type\":\"CDSView\"},{\"attributes\":{\"fill_alpha\":{\"value\":0.2},\"fill_color\":{\"value\":\"#fcd225\"},\"hatch_alpha\":{\"value\":0.2},\"hatch_color\":{\"value\":\"#fcd225\"},\"line_alpha\":{\"value\":0.2},\"line_color\":{\"value\":\"#fcd225\"},\"size\":{\"value\":3},\"x\":{\"field\":\"x\"},\"y\":{\"field\":\"y\"}},\"id\":\"1349\",\"type\":\"Circle\"},{\"attributes\":{\"fill_alpha\":{\"value\":0.1},\"fill_color\":{\"value\":\"#d5546e\"},\"hatch_alpha\":{\"value\":0.1},\"hatch_color\":{\"value\":\"#d5546e\"},\"line_alpha\":{\"value\":0.1},\"line_color\":{\"value\":\"#d5546e\"},\"size\":{\"value\":3},\"x\":{\"field\":\"x\"},\"y\":{\"field\":\"y\"}},\"id\":\"1398\",\"type\":\"Circle\"},{\"attributes\":{\"fill_alpha\":{\"value\":0.2},\"fill_color\":{\"value\":\"#d5546e\"},\"hatch_alpha\":{\"value\":0.2},\"hatch_color\":{\"value\":\"#d5546e\"},\"line_alpha\":{\"value\":0.2},\"line_color\":{\"value\":\"#d5546e\"},\"size\":{\"value\":3},\"x\":{\"field\":\"x\"},\"y\":{\"field\":\"y\"}},\"id\":\"1399\",\"type\":\"Circle\"},{\"attributes\":{},\"id\":\"1260\",\"type\":\"Selection\"},{\"attributes\":{},\"id\":\"1259\",\"type\":\"UnionRenderers\"},{\"attributes\":{\"coordinates\":null,\"data_source\":{\"id\":\"1346\"},\"glyph\":{\"id\":\"1347\"},\"group\":null,\"hover_glyph\":null,\"muted_glyph\":{\"id\":\"1349\"},\"nonselection_glyph\":{\"id\":\"1348\"},\"view\":{\"id\":\"1351\"}},\"id\":\"1350\",\"type\":\"GlyphRenderer\"},{\"attributes\":{},\"id\":\"1255\",\"type\":\"AllLabels\"},{\"attributes\":{},\"id\":\"1358\",\"type\":\"AllLabels\"},{\"attributes\":{\"coordinates\":null,\"formatter\":{\"id\":\"1404\"},\"group\":null,\"major_label_policy\":{\"id\":\"1405\"},\"ticker\":{\"id\":\"1379\"}},\"id\":\"1378\",\"type\":\"LinearAxis\"},{\"attributes\":{},\"id\":\"1254\",\"type\":\"BasicTickFormatter\"},{\"attributes\":{},\"id\":\"1370\",\"type\":\"LinearScale\"},{\"attributes\":{},\"id\":\"1404\",\"type\":\"BasicTickFormatter\"},{\"attributes\":{\"fill_alpha\":{\"value\":0.5},\"fill_color\":{\"value\":\"#d5546e\"},\"hatch_color\":{\"value\":\"#d5546e\"},\"line_alpha\":{\"value\":0.5},\"line_color\":{\"value\":\"#d5546e\"},\"size\":{\"value\":3},\"x\":{\"field\":\"x\"},\"y\":{\"field\":\"y\"}},\"id\":\"1397\",\"type\":\"Circle\"},{\"attributes\":{},\"id\":\"1354\",\"type\":\"BasicTickFormatter\"},{\"attributes\":{},\"id\":\"1387\",\"type\":\"HelpTool\"},{\"attributes\":{},\"id\":\"1405\",\"type\":\"AllLabels\"},{\"attributes\":{\"data\":{\"x\":{\"__ndarray__\":\"VJFlHH5RXcAxe9l22lFdwFSRZRx+UV3APjoaLMH1XcA+OhoswfVdwLlJVo9Fkl7AlWBxOPNlXsCwyRr1EL9dwPAC23f7iF3Ah6JAn0iJXcCwyRr1EL9dwEpoJnMHi17APjoaLMH1XcA+OhoswfVdwD46GizB9V3APjoaLMH1XcA+OhoswfVdwEK9z6dEml7AQr3Pp0SaXsCFKpA0k3VdwPsemh65j17ABtodUoyPXsBkvs0s049ewA==\",\"dtype\":\"float64\",\"order\":\"little\",\"shape\":[23]},\"y\":{\"__ndarray__\":\"QsVh/kSQQECORD+F6Y9AQELFYf5EkEBACMewszY3QUAIx7CzNjdBQJu4TZ860UNATGw+rg1ZQ0ALQQ5KmKlBQIuSqeV7akFAaziXqH9rQUALQQ5KmKlBQCicH3f4vkJACMewszY3QUAIx7CzNjdBQAjHsLM2N0FACMewszY3QUAIx7CzNjdBQNzQOeQLSURA3NA55AtJREDY1LtwTtBAQJRgu8UNBkNAJbA5B88FQ0BJyWHm8QVDQA==\",\"dtype\":\"float64\",\"order\":\"little\",\"shape\":[23]}},\"selected\":{\"id\":\"1410\"},\"selection_policy\":{\"id\":\"1409\"}},\"id\":\"1396\",\"type\":\"ColumnDataSource\"},{\"attributes\":{\"end\":-114.2,\"start\":-124.4},\"id\":\"1366\",\"type\":\"Range1d\"},{\"attributes\":{\"end\":42.0,\"start\":32.5},\"id\":\"1368\",\"type\":\"Range1d\"},{\"attributes\":{},\"id\":\"1355\",\"type\":\"AllLabels\"},{\"attributes\":{},\"id\":\"1407\",\"type\":\"BasicTickFormatter\"},{\"attributes\":{\"coordinates\":null,\"formatter\":{\"id\":\"1407\"},\"group\":null,\"major_label_policy\":{\"id\":\"1408\"},\"ticker\":{\"id\":\"1375\"}},\"id\":\"1374\",\"type\":\"LinearAxis\"},{\"attributes\":{\"coordinates\":null,\"formatter\":{\"id\":\"1354\"},\"group\":null,\"major_label_policy\":{\"id\":\"1355\"},\"ticker\":{\"id\":\"1329\"}},\"id\":\"1328\",\"type\":\"LinearAxis\"},{\"attributes\":{},\"id\":\"1372\",\"type\":\"LinearScale\"},{\"attributes\":{},\"id\":\"1375\",\"type\":\"BasicTicker\"},{\"attributes\":{},\"id\":\"1408\",\"type\":\"AllLabels\"},{\"attributes\":{},\"id\":\"1320\",\"type\":\"LinearScale\"},{\"attributes\":{\"axis\":{\"id\":\"1374\"},\"coordinates\":null,\"group\":null,\"ticker\":null},\"id\":\"1377\",\"type\":\"Grid\"},{\"attributes\":{\"fill_alpha\":{\"value\":0.5},\"fill_color\":{\"value\":\"#fcd225\"},\"hatch_color\":{\"value\":\"#fcd225\"},\"line_alpha\":{\"value\":0.5},\"line_color\":{\"value\":\"#fcd225\"},\"size\":{\"value\":3},\"x\":{\"field\":\"x\"},\"y\":{\"field\":\"y\"}},\"id\":\"1347\",\"type\":\"Circle\"},{\"attributes\":{},\"id\":\"1357\",\"type\":\"BasicTickFormatter\"},{\"attributes\":{},\"id\":\"1337\",\"type\":\"HelpTool\"},{\"attributes\":{\"axis\":{\"id\":\"1378\"},\"coordinates\":null,\"dimension\":1,\"group\":null,\"ticker\":null},\"id\":\"1381\",\"type\":\"Grid\"},{\"attributes\":{},\"id\":\"1287\",\"type\":\"HelpTool\"},{\"attributes\":{\"data\":{\"x\":{\"__ndarray__\":\"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\",\"dtype\":\"float64\",\"order\":\"little\",\"shape\":[309]},\"y\":{\"__ndarray__\":\"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\",\"dtype\":\"float64\",\"order\":\"little\",\"shape\":[309]}},\"selected\":{\"id\":\"1360\"},\"selection_policy\":{\"id\":\"1359\"}},\"id\":\"1346\",\"type\":\"ColumnDataSource\"},{\"attributes\":{\"end\":-114.2,\"start\":-124.4},\"id\":\"1316\",\"type\":\"Range1d\"},{\"attributes\":{},\"id\":\"1379\",\"type\":\"BasicTicker\"},{\"attributes\":{\"end\":42.0,\"start\":32.5},\"id\":\"1318\",\"type\":\"Range1d\"},{\"attributes\":{\"coordinates\":null,\"formatter\":{\"id\":\"1357\"},\"group\":null,\"major_label_policy\":{\"id\":\"1358\"},\"ticker\":{\"id\":\"1325\"}},\"id\":\"1324\",\"type\":\"LinearAxis\"},{\"attributes\":{},\"id\":\"1322\",\"type\":\"LinearScale\"},{\"attributes\":{},\"id\":\"1383\",\"type\":\"WheelZoomTool\"},{\"attributes\":{},\"id\":\"1257\",\"type\":\"BasicTickFormatter\"},{\"attributes\":{},\"id\":\"1325\",\"type\":\"BasicTicker\"},{\"attributes\":{},\"id\":\"1382\",\"type\":\"PanTool\"},{\"attributes\":{\"axis\":{\"id\":\"1324\"},\"coordinates\":null,\"group\":null,\"ticker\":null},\"id\":\"1327\",\"type\":\"Grid\"},{\"attributes\":{\"overlay\":{\"id\":\"1388\"}},\"id\":\"1384\",\"type\":\"BoxZoomTool\"},{\"attributes\":{},\"id\":\"1409\",\"type\":\"UnionRenderers\"},{\"attributes\":{\"label\":{\"value\":\"Class 1\"},\"renderers\":[{\"id\":\"1300\"}]},\"id\":\"1313\",\"type\":\"LegendItem\"},{\"attributes\":{},\"id\":\"1385\",\"type\":\"SaveTool\"},{\"attributes\":{},\"id\":\"1386\",\"type\":\"ResetTool\"},{\"attributes\":{\"tools\":[{\"id\":\"1282\"},{\"id\":\"1283\"},{\"id\":\"1284\"},{\"id\":\"1285\"},{\"id\":\"1286\"},{\"id\":\"1287\"}]},\"id\":\"1289\",\"type\":\"Toolbar\"},{\"attributes\":{},\"id\":\"1410\",\"type\":\"Selection\"},{\"attributes\":{\"axis\":{\"id\":\"1328\"},\"coordinates\":null,\"dimension\":1,\"group\":null,\"ticker\":null},\"id\":\"1331\",\"type\":\"Grid\"},{\"attributes\":{\"coordinates\":null,\"group\":null,\"items\":[{\"id\":\"1313\"}]},\"id\":\"1312\",\"type\":\"Legend\"},{\"attributes\":{},\"id\":\"1329\",\"type\":\"BasicTicker\"},{\"attributes\":{\"bottom_units\":\"screen\",\"coordinates\":null,\"fill_alpha\":0.5,\"fill_color\":\"lightgrey\",\"group\":null,\"left_units\":\"screen\",\"level\":\"overlay\",\"line_alpha\":1.0,\"line_color\":\"black\",\"line_dash\":[4,4],\"line_width\":2,\"right_units\":\"screen\",\"syncable\":false,\"top_units\":\"screen\"},\"id\":\"1388\",\"type\":\"BoxAnnotation\"},{\"attributes\":{\"fill_alpha\":{\"value\":0.1},\"fill_color\":{\"value\":\"#75e37d\"},\"hatch_alpha\":{\"value\":0.1},\"hatch_color\":{\"value\":\"#75e37d\"},\"line_alpha\":{\"value\":0.1},\"line_color\":{\"value\":\"#75e37d\"},\"size\":{\"value\":3},\"x\":{\"field\":\"x\"},\"y\":{\"field\":\"y\"}},\"id\":\"1298\",\"type\":\"Circle\"},{\"attributes\":{\"end\":-114.2,\"start\":-124.4},\"id\":\"1266\",\"type\":\"Range1d\"},{\"attributes\":{\"source\":{\"id\":\"1296\"}},\"id\":\"1301\",\"type\":\"CDSView\"},{\"attributes\":{},\"id\":\"1333\",\"type\":\"WheelZoomTool\"},{\"attributes\":{\"data\":{\"x\":{\"__ndarray__\":\"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\",\"dtype\":\"float64\",\"order\":\"little\",\"shape\":[238]},\"y\":{\"__ndarray__\":\"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\",\"dtype\":\"float64\",\"order\":\"little\",\"shape\":[238]}},\"selected\":{\"id\":\"1310\"},\"selection_policy\":{\"id\":\"1309\"}},\"id\":\"1296\",\"type\":\"ColumnDataSource\"},{\"attributes\":{},\"id\":\"1332\",\"type\":\"PanTool\"},{\"attributes\":{\"overlay\":{\"id\":\"1338\"}},\"id\":\"1334\",\"type\":\"BoxZoomTool\"},{\"attributes\":{},\"id\":\"1335\",\"type\":\"SaveTool\"},{\"attributes\":{},\"id\":\"1360\",\"type\":\"Selection\"},{\"attributes\":{},\"id\":\"1258\",\"type\":\"AllLabels\"},{\"attributes\":{},\"id\":\"1336\",\"type\":\"ResetTool\"},{\"attributes\":{\"tools\":[{\"id\":\"1382\"},{\"id\":\"1383\"},{\"id\":\"1384\"},{\"id\":\"1385\"},{\"id\":\"1386\"},{\"id\":\"1387\"}]},\"id\":\"1389\",\"type\":\"Toolbar\"},{\"attributes\":{\"bottom_units\":\"screen\",\"coordinates\":null,\"fill_alpha\":0.5,\"fill_color\":\"lightgrey\",\"group\":null,\"left_units\":\"screen\",\"level\":\"overlay\",\"line_alpha\":1.0,\"line_color\":\"black\",\"line_dash\":[4,4],\"line_width\":2,\"right_units\":\"screen\",\"syncable\":false,\"top_units\":\"screen\"},\"id\":\"1338\",\"type\":\"BoxAnnotation\"},{\"attributes\":{\"tools\":[{\"id\":\"1332\"},{\"id\":\"1333\"},{\"id\":\"1334\"},{\"id\":\"1335\"},{\"id\":\"1336\"},{\"id\":\"1337\"}]},\"id\":\"1339\",\"type\":\"Toolbar\"},{\"attributes\":{\"fill_alpha\":{\"value\":0.2},\"fill_color\":{\"value\":\"#75e37d\"},\"hatch_alpha\":{\"value\":0.2},\"hatch_color\":{\"value\":\"#75e37d\"},\"line_alpha\":{\"value\":0.2},\"line_color\":{\"value\":\"#75e37d\"},\"size\":{\"value\":3},\"x\":{\"field\":\"x\"},\"y\":{\"field\":\"y\"}},\"id\":\"1299\",\"type\":\"Circle\"},{\"attributes\":{},\"id\":\"1359\",\"type\":\"UnionRenderers\"},{\"attributes\":{\"source\":{\"id\":\"1346\"}},\"id\":\"1351\",\"type\":\"CDSView\"},{\"attributes\":{\"coordinates\":null,\"data_source\":{\"id\":\"1296\"},\"glyph\":{\"id\":\"1297\"},\"group\":null,\"hover_glyph\":null,\"muted_glyph\":{\"id\":\"1299\"},\"nonselection_glyph\":{\"id\":\"1298\"},\"view\":{\"id\":\"1301\"}},\"id\":\"1300\",\"type\":\"GlyphRenderer\"},{\"attributes\":{\"fill_alpha\":{\"value\":0.1},\"fill_color\":{\"value\":\"#fcd225\"},\"hatch_alpha\":{\"value\":0.1},\"hatch_color\":{\"value\":\"#fcd225\"},\"line_alpha\":{\"value\":0.1},\"line_color\":{\"value\":\"#fcd225\"},\"size\":{\"value\":3},\"x\":{\"field\":\"x\"},\"y\":{\"field\":\"y\"}},\"id\":\"1348\",\"type\":\"Circle\"},{\"attributes\":{\"bottom_units\":\"screen\",\"coordinates\":null,\"fill_alpha\":0.5,\"fill_color\":\"lightgrey\",\"group\":null,\"left_units\":\"screen\",\"level\":\"overlay\",\"line_alpha\":1.0,\"line_color\":\"black\",\"line_dash\":[4,4],\"line_width\":2,\"right_units\":\"screen\",\"syncable\":false,\"top_units\":\"screen\"},\"id\":\"1288\",\"type\":\"BoxAnnotation\"},{\"attributes\":{\"coordinates\":null,\"group\":null,\"items\":[{\"id\":\"1363\"}]},\"id\":\"1362\",\"type\":\"Legend\"},{\"attributes\":{\"label\":{\"value\":\"Class 2\"},\"renderers\":[{\"id\":\"1350\"}]},\"id\":\"1363\",\"type\":\"LegendItem\"},{\"attributes\":{\"overlay\":{\"id\":\"1288\"}},\"id\":\"1284\",\"type\":\"BoxZoomTool\"},{\"attributes\":{},\"id\":\"1310\",\"type\":\"Selection\"},{\"attributes\":{},\"id\":\"1282\",\"type\":\"PanTool\"},{\"attributes\":{},\"id\":\"1308\",\"type\":\"AllLabels\"},{\"attributes\":{\"fill_alpha\":{\"value\":0.2},\"fill_color\":{\"value\":\"#00a8d0\"},\"hatch_alpha\":{\"value\":0.2},\"hatch_color\":{\"value\":\"#00a8d0\"},\"line_alpha\":{\"value\":0.2},\"line_color\":{\"value\":\"#00a8d0\"},\"size\":{\"value\":3},\"x\":{\"field\":\"x\"},\"y\":{\"field\":\"y\"}},\"id\":\"1249\",\"type\":\"Circle\"},{\"attributes\":{\"label\":{\"value\":\"Class 3\"},\"renderers\":[{\"id\":\"1400\"}]},\"id\":\"1413\",\"type\":\"LegendItem\"},{\"attributes\":{},\"id\":\"1270\",\"type\":\"LinearScale\"},{\"attributes\":{\"below\":[{\"id\":\"1374\"}],\"center\":[{\"id\":\"1377\"},{\"id\":\"1381\"},{\"id\":\"1412\"}],\"height\":500,\"left\":[{\"id\":\"1378\"}],\"renderers\":[{\"id\":\"1400\"}],\"title\":null,\"toolbar\":{\"id\":\"1389\"},\"width\":500,\"x_range\":{\"id\":\"1366\"},\"x_scale\":{\"id\":\"1370\"},\"y_range\":{\"id\":\"1368\"},\"y_scale\":{\"id\":\"1372\"}},\"id\":\"1364\",\"subtype\":\"Figure\",\"type\":\"Plot\"},{\"attributes\":{\"coordinates\":null,\"formatter\":{\"id\":\"1304\"},\"group\":null,\"major_label_policy\":{\"id\":\"1305\"},\"ticker\":{\"id\":\"1279\"}},\"id\":\"1278\",\"type\":\"LinearAxis\"},{\"attributes\":{\"fill_alpha\":{\"value\":0.5},\"fill_color\":{\"value\":\"#75e37d\"},\"hatch_color\":{\"value\":\"#75e37d\"},\"line_alpha\":{\"value\":0.5},\"line_color\":{\"value\":\"#75e37d\"},\"size\":{\"value\":3},\"x\":{\"field\":\"x\"},\"y\":{\"field\":\"y\"}},\"id\":\"1297\",\"type\":\"Circle\"},{\"attributes\":{\"coordinates\":null,\"group\":null,\"items\":[{\"id\":\"1413\"}]},\"id\":\"1412\",\"type\":\"Legend\"},{\"attributes\":{\"below\":[{\"id\":\"1274\"}],\"center\":[{\"id\":\"1277\"},{\"id\":\"1281\"},{\"id\":\"1312\"}],\"height\":500,\"left\":[{\"id\":\"1278\"}],\"renderers\":[{\"id\":\"1300\"}],\"title\":null,\"toolbar\":{\"id\":\"1289\"},\"width\":500,\"x_range\":{\"id\":\"1266\"},\"x_scale\":{\"id\":\"1270\"},\"y_range\":{\"id\":\"1268\"},\"y_scale\":{\"id\":\"1272\"}},\"id\":\"1264\",\"subtype\":\"Figure\",\"type\":\"Plot\"},{\"attributes\":{\"fill_alpha\":{\"value\":0.5},\"fill_color\":{\"value\":\"#00a8d0\"},\"hatch_color\":{\"value\":\"#00a8d0\"},\"line_alpha\":{\"value\":0.5},\"line_color\":{\"value\":\"#00a8d0\"},\"size\":{\"value\":3},\"x\":{\"field\":\"x\"},\"y\":{\"field\":\"y\"}},\"id\":\"1247\",\"type\":\"Circle\"},{\"attributes\":{\"data\":{\"x\":{\"__ndarray__\":\"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\",\"dtype\":\"float64\",\"order\":\"little\",\"shape\":[588]},\"y\":{\"__ndarray__\":\"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\",\"dtype\":\"float64\",\"order\":\"little\",\"shape\":[588]}},\"selected\":{\"id\":\"1260\"},\"selection_policy\":{\"id\":\"1259\"}},\"id\":\"1246\",\"type\":\"ColumnDataSource\"},{\"attributes\":{\"below\":[{\"id\":\"1224\"}],\"center\":[{\"id\":\"1227\"},{\"id\":\"1231\"},{\"id\":\"1262\"}],\"height\":500,\"left\":[{\"id\":\"1228\"}],\"renderers\":[{\"id\":\"1250\"}],\"title\":null,\"toolbar\":{\"id\":\"1239\"},\"width\":500,\"x_range\":{\"id\":\"1216\"},\"x_scale\":{\"id\":\"1220\"},\"y_range\":{\"id\":\"1218\"},\"y_scale\":{\"id\":\"1222\"}},\"id\":\"1214\",\"subtype\":\"Figure\",\"type\":\"Plot\"},{\"attributes\":{\"bottom_units\":\"screen\",\"coordinates\":null,\"fill_alpha\":0.5,\"fill_color\":\"lightgrey\",\"group\":null,\"left_units\":\"screen\",\"level\":\"overlay\",\"line_alpha\":1.0,\"line_color\":\"black\",\"line_dash\":[4,4],\"line_width\":2,\"right_units\":\"screen\",\"syncable\":false,\"top_units\":\"screen\"},\"id\":\"1238\",\"type\":\"BoxAnnotation\"},{\"attributes\":{\"below\":[{\"id\":\"1324\"}],\"center\":[{\"id\":\"1327\"},{\"id\":\"1331\"},{\"id\":\"1362\"}],\"height\":500,\"left\":[{\"id\":\"1328\"}],\"renderers\":[{\"id\":\"1350\"}],\"title\":null,\"toolbar\":{\"id\":\"1339\"},\"width\":500,\"x_range\":{\"id\":\"1316\"},\"x_scale\":{\"id\":\"1320\"},\"y_range\":{\"id\":\"1318\"},\"y_scale\":{\"id\":\"1322\"}},\"id\":\"1314\",\"subtype\":\"Figure\",\"type\":\"Plot\"},{\"attributes\":{},\"id\":\"1304\",\"type\":\"BasicTickFormatter\"},{\"attributes\":{\"end\":-114.2,\"start\":-124.4},\"id\":\"1216\",\"type\":\"Range1d\"},{\"attributes\":{},\"id\":\"1237\",\"type\":\"HelpTool\"},{\"attributes\":{},\"id\":\"1309\",\"type\":\"UnionRenderers\"},{\"attributes\":{},\"id\":\"1220\",\"type\":\"LinearScale\"},{\"attributes\":{\"coordinates\":null,\"formatter\":{\"id\":\"1254\"},\"group\":null,\"major_label_policy\":{\"id\":\"1255\"},\"ticker\":{\"id\":\"1229\"}},\"id\":\"1228\",\"type\":\"LinearAxis\"},{\"attributes\":{\"end\":42.0,\"start\":32.5},\"id\":\"1218\",\"type\":\"Range1d\"},{\"attributes\":{\"coordinates\":null,\"formatter\":{\"id\":\"1257\"},\"group\":null,\"major_label_policy\":{\"id\":\"1258\"},\"ticker\":{\"id\":\"1225\"}},\"id\":\"1224\",\"type\":\"LinearAxis\"},{\"attributes\":{},\"id\":\"1222\",\"type\":\"LinearScale\"},{\"attributes\":{},\"id\":\"1225\",\"type\":\"BasicTicker\"},{\"attributes\":{},\"id\":\"1279\",\"type\":\"BasicTicker\"},{\"attributes\":{\"axis\":{\"id\":\"1224\"},\"coordinates\":null,\"group\":null,\"ticker\":null},\"id\":\"1227\",\"type\":\"Grid\"},{\"attributes\":{},\"id\":\"1272\",\"type\":\"LinearScale\"},{\"attributes\":{},\"id\":\"1275\",\"type\":\"BasicTicker\"},{\"attributes\":{\"coordinates\":null,\"formatter\":{\"id\":\"1307\"},\"group\":null,\"major_label_policy\":{\"id\":\"1308\"},\"ticker\":{\"id\":\"1275\"}},\"id\":\"1274\",\"type\":\"LinearAxis\"},{\"attributes\":{\"axis\":{\"id\":\"1228\"},\"coordinates\":null,\"dimension\":1,\"group\":null,\"ticker\":null},\"id\":\"1231\",\"type\":\"Grid\"},{\"attributes\":{\"end\":42.0,\"start\":32.5},\"id\":\"1268\",\"type\":\"Range1d\"},{\"attributes\":{},\"id\":\"1307\",\"type\":\"BasicTickFormatter\"},{\"attributes\":{\"axis\":{\"id\":\"1274\"},\"coordinates\":null,\"group\":null,\"ticker\":null},\"id\":\"1277\",\"type\":\"Grid\"},{\"attributes\":{},\"id\":\"1229\",\"type\":\"BasicTicker\"},{\"attributes\":{\"tools\":[{\"id\":\"1232\"},{\"id\":\"1233\"},{\"id\":\"1234\"},{\"id\":\"1235\"},{\"id\":\"1236\"},{\"id\":\"1237\"}]},\"id\":\"1239\",\"type\":\"Toolbar\"},{\"attributes\":{\"axis\":{\"id\":\"1278\"},\"coordinates\":null,\"dimension\":1,\"group\":null,\"ticker\":null},\"id\":\"1281\",\"type\":\"Grid\"},{\"attributes\":{},\"id\":\"1233\",\"type\":\"WheelZoomTool\"},{\"attributes\":{},\"id\":\"1232\",\"type\":\"PanTool\"},{\"attributes\":{\"overlay\":{\"id\":\"1238\"}},\"id\":\"1234\",\"type\":\"BoxZoomTool\"},{\"attributes\":{},\"id\":\"1235\",\"type\":\"SaveTool\"},{\"attributes\":{},\"id\":\"1236\",\"type\":\"ResetTool\"},{\"attributes\":{\"coordinates\":null,\"data_source\":{\"id\":\"1246\"},\"glyph\":{\"id\":\"1247\"},\"group\":null,\"hover_glyph\":null,\"muted_glyph\":{\"id\":\"1249\"},\"nonselection_glyph\":{\"id\":\"1248\"},\"view\":{\"id\":\"1251\"}},\"id\":\"1250\",\"type\":\"GlyphRenderer\"},{\"attributes\":{},\"id\":\"1305\",\"type\":\"AllLabels\"},{\"attributes\":{\"source\":{\"id\":\"1246\"}},\"id\":\"1251\",\"type\":\"CDSView\"},{\"attributes\":{\"label\":{\"value\":\"Class 0\"},\"renderers\":[{\"id\":\"1250\"}]},\"id\":\"1263\",\"type\":\"LegendItem\"},{\"attributes\":{\"fill_alpha\":{\"value\":0.1},\"fill_color\":{\"value\":\"#00a8d0\"},\"hatch_alpha\":{\"value\":0.1},\"hatch_color\":{\"value\":\"#00a8d0\"},\"line_alpha\":{\"value\":0.1},\"line_color\":{\"value\":\"#00a8d0\"},\"size\":{\"value\":3},\"x\":{\"field\":\"x\"},\"y\":{\"field\":\"y\"}},\"id\":\"1248\",\"type\":\"Circle\"},{\"attributes\":{\"coordinates\":null,\"group\":null,\"items\":[{\"id\":\"1263\"}]},\"id\":\"1262\",\"type\":\"Legend\"},{\"attributes\":{},\"id\":\"1283\",\"type\":\"WheelZoomTool\"}],\"root_ids\":[\"1414\"]},\"title\":\"Bokeh Application\",\"version\":\"2.4.1\"}};\n",
       "  const render_items = [{\"docid\":\"ada08890-5547-48ae-83f9-be683a85476c\",\"notebook_comms_target\":\"1471\",\"root_ids\":[\"1414\"],\"roots\":{\"1414\":\"ab009772-0f36-4547-839e-573e8043df57\"}}];\n",
       "  root.Bokeh.embed.embed_items_notebook(docs_json, render_items);\n",
       "\n",
       "  }\n",
       "  if (root.Bokeh !== undefined) {\n",
       "    embed_document(root);\n",
       "  } else {\n",
       "    let attempts = 0;\n",
       "    const timer = setInterval(function(root) {\n",
       "      if (root.Bokeh !== undefined) {\n",
       "        clearInterval(timer);\n",
       "        embed_document(root);\n",
       "      } else {\n",
       "        attempts++;\n",
       "        if (attempts > 100) {\n",
       "          clearInterval(timer);\n",
       "          console.log(\"Bokeh: ERROR: Unable to run BokehJS code because BokehJS library is missing\");\n",
       "        }\n",
       "      }\n",
       "    }, 10, root)\n",
       "  }\n",
       "})(window);"
      ],
      "application/vnd.bokehjs_exec.v0+json": ""
     },
     "metadata": {
      "application/vnd.bokehjs_exec.v0+json": {
       "id": "1414"
      }
     },
     "output_type": "display_data"
    },
    {
     "data": {
      "text/html": [
       "<p><code>&lt;Bokeh Notebook handle for <strong>In[9]</strong>&gt;</code></p>"
      ],
      "text/plain": [
       "<bokeh.io.notebook.CommsHandle at 0x224c10d9e20>"
      ]
     },
     "execution_count": 9,
     "metadata": {},
     "output_type": "execute_result"
    }
   ],
   "source": [
    "#generate figures of locations broken by class\n",
    "p0 = figure(width=500, height=500, title=None,y_range=(32.5,42.0),x_range=(-124.4,-114.2))\n",
    "p0.circle(zero_Long,zero_Lat,size=3,color=terrain.as_hex()[1],fill_alpha=0.5,line_alpha=0.5,legend='Class 0')\n",
    "p1 = figure(width=500, height=500, title=None,y_range=(32.5,42.0),x_range=(-124.4,-114.2))\n",
    "p1.circle(one_Long,one_Lat,size=3,color=terrain.as_hex()[3],fill_alpha=0.5,line_alpha=0.5,legend='Class 1')\n",
    "p2 = figure(width=500, height=500, title=None,y_range=(32.5,42.0),x_range=(-124.4,-114.2))\n",
    "p2.circle(two_Long,two_Lat,size=3,color=plasma.as_hex()[9],fill_alpha=0.5,line_alpha=0.5,legend='Class 2')\n",
    "p3 = figure(width=500, height=500, title=None,y_range=(32.5,42.0),x_range=(-124.4,-114.2))\n",
    "p3.circle(three_Long,three_Lat,size=3,color=plasma.as_hex()[5],fill_alpha=0.5,line_alpha=0.5,legend='Class 3')\n",
    "show(column(p0,p1,p2,p3), notebook_handle=True)"
   ]
  },
  {
   "cell_type": "markdown",
   "id": "be0f8bfb",
   "metadata": {},
   "source": [
    "Here is the graph broken out into individual classes"
   ]
  },
  {
   "cell_type": "code",
   "execution_count": 10,
   "id": "a1d36854",
   "metadata": {},
   "outputs": [
    {
     "name": "stdout",
     "output_type": "stream",
     "text": [
      "% correct = 68.53448275862068\n"
     ]
    }
   ],
   "source": [
    "from sklearn.neighbors import KNeighborsClassifier\n",
    "\n",
    "\n",
    "model = KNeighborsClassifier(n_neighbors=9)\n",
    "model.fit(X_train, y_train)\n",
    "y_pred = model.predict(X_test)\n",
    "mat=[y_pred,y_test]\n",
    "\n",
    "df=pd.DataFrame(mat).transpose()\n",
    "df.columns=('h0','y')\n",
    "df['diff']=np.where(df.h0==df.y,1,0)\n",
    "print('% correct =',sum(df['diff'])/len(df['diff'])*100)\n"
   ]
  },
  {
   "cell_type": "markdown",
   "id": "ecb1288f",
   "metadata": {},
   "source": [
    "Here we can see that when we compare our predicted data set against the training data set we have 68.5% of the values being correct.\n",
    "\n",
    "Next we want to check log loss which is an important metric of model performance and is more insightful than just accuracy:"
   ]
  },
  {
   "cell_type": "code",
   "execution_count": 18,
   "id": "7212b96e",
   "metadata": {},
   "outputs": [
    {
     "name": "stdout",
     "output_type": "stream",
     "text": [
      "log loss = 0.9816520215673028\n"
     ]
    }
   ],
   "source": [
    "#check log loss\n",
    "PredProb=model.predict_proba(X_test)\n",
    "pred=np.asmatrix(PredProb)\n",
    "pred.columns=('0','1','2','3')\n",
    "s=np.asmatrix(pd.get_dummies(y_test))\n",
    "def f(x):\n",
    "    return sp.log(sp.maximum(sp.minimum(x,1-10**-5),10**-5))\n",
    "f=np.vectorize(f)\n",
    "predf=f(pred)\n",
    "mult=np.multiply(predf,s)\n",
    "print('log loss =',np.sum(mult)/-len(y_test))\n",
    "\n"
   ]
  },
  {
   "cell_type": "markdown",
   "id": "ca8507f9",
   "metadata": {},
   "source": [
    "Here we can see the log loss is fairly high indicating poor performance by the model\n",
    "\n",
    "Next we will try to find the optimal K value to try and improve performance. The K value being the number of neighbors to consider."
   ]
  },
  {
   "cell_type": "code",
   "execution_count": 19,
   "id": "dcf309f6",
   "metadata": {},
   "outputs": [
    {
     "name": "stdout",
     "output_type": "stream",
     "text": [
      "[0.7155172413793103, 0.7137931034482758, 0.7258620689655173, 0.6931034482758621, 0.7068965517241379, 0.7017241379310345, 0.6801724137931034, 0.685344827586207, 0.675]\n",
      "[2.567137168516858, 2.6341639803205648, 2.5461529051992646, 2.5718957096296116, 2.4726720479300974, 2.583336443182221, 2.4672189651060537, 2.5213299007608585, 2.585215812341051]\n"
     ]
    }
   ],
   "source": [
    "#loop to optomize K\n",
    "accuracy_big=[]\n",
    "logloss_big=[]\n",
    "def f(x):\n",
    "    return sp.log(sp.maximum(sp.minimum(x,1-10**-5),10**-5))\n",
    "f=np.vectorize(f)\n",
    "\n",
    "for j in range (3,20,2): #j in range of odd numbers between 3 and 20\n",
    "    logloss=[]  #empty array\n",
    "    accuracy=[] #empty array\n",
    "    for i in range (5): #iterations of random states\n",
    "        #split data\n",
    "        X_train, X_test, y_train, y_test = train_test_split(X, y, test_size=0.2)\n",
    "        model = KNeighborsClassifier(n_neighbors=j)\n",
    "        #train classifier\n",
    "        model.fit(X_train, y_train)\n",
    "        \n",
    "        #find % predicted correctly for this value of k (j)\n",
    "        y_pred = model.predict(X_test)\n",
    "        mat=[y_pred,y_test]\n",
    "        df=pd.DataFrame(mat).transpose()\n",
    "        df.columns=('h0','y')\n",
    "        df['diff']=np.where(df.h0==df.y,1,0)\n",
    "        accuracy.append(sum(df['diff'])/len(df['diff']))\n",
    "        \n",
    "        #find the logloss for this k\n",
    "        y_pred=model.predict_proba(X_test)\n",
    "        pred=np.asmatrix(PredProb)\n",
    "        pred.columns=('0','1','2','3')\n",
    "        s=np.asmatrix(pd.get_dummies(y_test))\n",
    "        predf=f(pred)\n",
    "        mult=np.multiply(predf,s)\n",
    "        logloss.append(np.sum(mult)/-len(y_test)) #append array with logloss\n",
    "    logloss_big.append(np.mean(logloss)) #take the average of the 5 random state runs and append the logloss for k values\n",
    "    accuracy_big.append(np.mean(accuracy))\n",
    "print(accuracy_big)\n",
    "print(logloss_big)"
   ]
  },
  {
   "cell_type": "code",
   "execution_count": 20,
   "id": "0be75597",
   "metadata": {},
   "outputs": [
    {
     "data": {
      "text/plain": [
       "Text(0.5, 1.0, 'KNN logloss on longitude and latitude')"
      ]
     },
     "execution_count": 20,
     "metadata": {},
     "output_type": "execute_result"
    },
    {
     "data": {
      "image/png": "[encoded data removed]",
      "text/plain": [
       "<Figure size 432x288 with 1 Axes>"
      ]
     },
     "metadata": {
      "needs_background": "light"
     },
     "output_type": "display_data"
    }
   ],
   "source": [
    "#see logloss change with k value\n",
    "plt.plot(range(3,20,2),logloss_big)\n",
    "plt.ylabel('logloss')\n",
    "plt.xlabel('k value')\n",
    "plt.title('KNN logloss on longitude and latitude')"
   ]
  },
  {
   "cell_type": "markdown",
   "id": "fa9b491c",
   "metadata": {},
   "source": [
    "Here we cant see a clear trend that changing the K value has on logloss"
   ]
  },
  {
   "cell_type": "code",
   "execution_count": 21,
   "id": "6895c618",
   "metadata": {},
   "outputs": [
    {
     "data": {
      "text/plain": [
       "Text(0.5, 1.0, 'KNN prediction on longitude and latitude')"
      ]
     },
     "execution_count": 21,
     "metadata": {},
     "output_type": "execute_result"
    },
    {
     "data": {
      "image/png": "[encoded data removed]",
      "text/plain": [
       "<Figure size 432x288 with 1 Axes>"
      ]
     },
     "metadata": {
      "needs_background": "light"
     },
     "output_type": "display_data"
    }
   ],
   "source": [
    "#see accuracy change with k value\n",
    "plt.plot(range(3,20,2),accuracy_big)\n",
    "plt.ylabel('% predicted correctly')\n",
    "plt.xlabel('k value')\n",
    "plt.title('KNN prediction on longitude and latitude')"
   ]
  },
  {
   "cell_type": "markdown",
   "id": "02698255",
   "metadata": {},
   "source": [
    "If we look at the the effect K value has on the prediction accuracy, we see that as K increases, accuracy decreases. This is because including more neighbors for a set of coordinates means considering other groundwater wells that are further and further away and less likely to be representative of the coordinates you are looking at.<Br>\n",
    "<br>\n",
    "#### Below we can input coordinates into our model and it will return the class:"
   ]
  },
  {
   "cell_type": "code",
   "execution_count": 23,
   "id": "49b39f63",
   "metadata": {},
   "outputs": [
    {
     "data": {
      "text/plain": [
       "array([2], dtype=int64)"
      ]
     },
     "execution_count": 23,
     "metadata": {},
     "output_type": "execute_result"
    }
   ],
   "source": [
    "#predict a set of coordinates to return the class for PFOA\n",
    "#Class 0: ND\n",
    "#Class 1: 0 to 5.1 ppt\n",
    "#Class 2: 5.1 to 70 ppt\n",
    "#Class 3: >70 ppt\n",
    "model.predict([[33.854,-117.92]])"
   ]
  },
  {
   "cell_type": "code",
   "execution_count": null,
   "id": "dee5c9c3",
   "metadata": {},
   "outputs": [],
   "source": []
  }
 ],
 "metadata": {
  "kernelspec": {
   "display_name": "Python 3 (ipykernel)",
   "language": "python",
   "name": "python3"
  },
  "language_info": {
   "codemirror_mode": {
    "name": "ipython",
    "version": 3
   },
   "file_extension": ".py",
   "mimetype": "text/x-python",
   "name": "python",
   "nbconvert_exporter": "python",
   "pygments_lexer": "ipython3",
   "version": "3.9.7"
  }
 },
 "nbformat": 4,
 "nbformat_minor": 5
}
