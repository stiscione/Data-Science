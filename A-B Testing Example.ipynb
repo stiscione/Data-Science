{
 "cells": [
  {
   "cell_type": "markdown",
   "id": "e4e93fbb",
   "metadata": {},
   "source": [
    "This is an example of using the pandas library and python to analyze A/B testing data from a mobile game.\n",
    "\n",
    "A/B testing is done by presenting your population randomly with the same content/item/webpage/etc. with one difference and then analyzing relevant metrics to determine if a statistically significant change is seen in one group vs. the other.\n",
    "\n",
    "As an example of this I am using the DataCamp Project Mobile Games A/B testing data from the following link:https://www.kaggle.com/yufengsui/datacamp-project-mobile-games-a-b-testing/data\n",
    "\n",
    "The Data is for 'Cookie Cats', a mobile puzzle game that is a connect three style game where connecting tiles of the same color of 3 or more clears them from the board.\n",
    "\n",
    "As players progress they will encounter gates that force them to wait a certain period of time or make an in-app purchase to progress\n",
    "\n",
    "The use of the gates is to 1. drive in app-purchases and 2. give the player an enforced break in hopes of prolonging enjoyment and retention (prevent burnout) A/B testing was done by placing a gate at level 30 (gate_30) or level 40 (gate_40)"
   ]
  },
  {
   "cell_type": "code",
   "execution_count": 1,
   "id": "2ecf7e25",
   "metadata": {},
   "outputs": [],
   "source": [
    "#import pandas for analysis\n",
    "import pandas as pd"
   ]
  },
  {
   "cell_type": "code",
   "execution_count": 7,
   "id": "6d953254",
   "metadata": {
    "scrolled": true
   },
   "outputs": [
    {
     "data": {
      "text/html": [
       "<div>\n",
       "<style scoped>\n",
       "    .dataframe tbody tr th:only-of-type {\n",
       "        vertical-align: middle;\n",
       "    }\n",
       "\n",
       "    .dataframe tbody tr th {\n",
       "        vertical-align: top;\n",
       "    }\n",
       "\n",
       "    .dataframe thead th {\n",
       "        text-align: right;\n",
       "    }\n",
       "</style>\n",
       "<table border=\"1\" class=\"dataframe\">\n",
       "  <thead>\n",
       "    <tr style=\"text-align: right;\">\n",
       "      <th></th>\n",
       "      <th>userid</th>\n",
       "      <th>version</th>\n",
       "      <th>sum_gamerounds</th>\n",
       "      <th>retention_1</th>\n",
       "      <th>retention_7</th>\n",
       "    </tr>\n",
       "  </thead>\n",
       "  <tbody>\n",
       "    <tr>\n",
       "      <th>0</th>\n",
       "      <td>116</td>\n",
       "      <td>gate_30</td>\n",
       "      <td>3</td>\n",
       "      <td>False</td>\n",
       "      <td>False</td>\n",
       "    </tr>\n",
       "    <tr>\n",
       "      <th>1</th>\n",
       "      <td>337</td>\n",
       "      <td>gate_30</td>\n",
       "      <td>38</td>\n",
       "      <td>True</td>\n",
       "      <td>False</td>\n",
       "    </tr>\n",
       "    <tr>\n",
       "      <th>2</th>\n",
       "      <td>377</td>\n",
       "      <td>gate_40</td>\n",
       "      <td>165</td>\n",
       "      <td>True</td>\n",
       "      <td>False</td>\n",
       "    </tr>\n",
       "    <tr>\n",
       "      <th>3</th>\n",
       "      <td>483</td>\n",
       "      <td>gate_40</td>\n",
       "      <td>1</td>\n",
       "      <td>False</td>\n",
       "      <td>False</td>\n",
       "    </tr>\n",
       "    <tr>\n",
       "      <th>4</th>\n",
       "      <td>488</td>\n",
       "      <td>gate_40</td>\n",
       "      <td>179</td>\n",
       "      <td>True</td>\n",
       "      <td>True</td>\n",
       "    </tr>\n",
       "  </tbody>\n",
       "</table>\n",
       "</div>"
      ],
      "text/plain": [
       "   userid  version  sum_gamerounds  retention_1  retention_7\n",
       "0     116  gate_30               3        False        False\n",
       "1     337  gate_30              38         True        False\n",
       "2     377  gate_40             165         True        False\n",
       "3     483  gate_40               1        False        False\n",
       "4     488  gate_40             179         True         True"
      ]
     },
     "execution_count": 7,
     "metadata": {},
     "output_type": "execute_result"
    }
   ],
   "source": [
    "#import data and look at a sample\n",
    "df = pd.read_csv('cookie_cats.csv')\n",
    "df.head()"
   ]
  },
  {
   "cell_type": "code",
   "execution_count": 3,
   "id": "3bfa8ac0",
   "metadata": {},
   "outputs": [
    {
     "name": "stdout",
     "output_type": "stream",
     "text": [
      "<class 'pandas.core.frame.DataFrame'>\n",
      "RangeIndex: 90189 entries, 0 to 90188\n",
      "Data columns (total 5 columns):\n",
      " #   Column          Non-Null Count  Dtype \n",
      "---  ------          --------------  ----- \n",
      " 0   userid          90189 non-null  int64 \n",
      " 1   version         90189 non-null  object\n",
      " 2   sum_gamerounds  90189 non-null  int64 \n",
      " 3   retention_1     90189 non-null  bool  \n",
      " 4   retention_7     90189 non-null  bool  \n",
      "dtypes: bool(2), int64(2), object(1)\n",
      "memory usage: 2.2+ MB\n"
     ]
    }
   ],
   "source": [
    "#look at the info on our data\n",
    "df.info()"
   ]
  },
  {
   "cell_type": "code",
   "execution_count": 4,
   "id": "35c079d6",
   "metadata": {},
   "outputs": [
    {
     "data": {
      "text/html": [
       "<div>\n",
       "<style scoped>\n",
       "    .dataframe tbody tr th:only-of-type {\n",
       "        vertical-align: middle;\n",
       "    }\n",
       "\n",
       "    .dataframe tbody tr th {\n",
       "        vertical-align: top;\n",
       "    }\n",
       "\n",
       "    .dataframe thead th {\n",
       "        text-align: right;\n",
       "    }\n",
       "</style>\n",
       "<table border=\"1\" class=\"dataframe\">\n",
       "  <thead>\n",
       "    <tr style=\"text-align: right;\">\n",
       "      <th></th>\n",
       "      <th>userid</th>\n",
       "      <th>sum_gamerounds</th>\n",
       "      <th>retention_1</th>\n",
       "      <th>retention_7</th>\n",
       "    </tr>\n",
       "    <tr>\n",
       "      <th>version</th>\n",
       "      <th></th>\n",
       "      <th></th>\n",
       "      <th></th>\n",
       "      <th></th>\n",
       "    </tr>\n",
       "  </thead>\n",
       "  <tbody>\n",
       "    <tr>\n",
       "      <th>gate_30</th>\n",
       "      <td>44700</td>\n",
       "      <td>44700</td>\n",
       "      <td>44700</td>\n",
       "      <td>44700</td>\n",
       "    </tr>\n",
       "    <tr>\n",
       "      <th>gate_40</th>\n",
       "      <td>45489</td>\n",
       "      <td>45489</td>\n",
       "      <td>45489</td>\n",
       "      <td>45489</td>\n",
       "    </tr>\n",
       "  </tbody>\n",
       "</table>\n",
       "</div>"
      ],
      "text/plain": [
       "         userid  sum_gamerounds  retention_1  retention_7\n",
       "version                                                  \n",
       "gate_30   44700           44700        44700        44700\n",
       "gate_40   45489           45489        45489        45489"
      ]
     },
     "execution_count": 4,
     "metadata": {},
     "output_type": "execute_result"
    }
   ],
   "source": [
    "#version is the A/B test indication, we can now count how many of each version was tested\n",
    "df.groupby('version').count()"
   ]
  },
  {
   "cell_type": "code",
   "execution_count": 6,
   "id": "07fc6466",
   "metadata": {},
   "outputs": [
    {
     "data": {
      "text/plain": [
       "<AxesSubplot:>"
      ]
     },
     "execution_count": 6,
     "metadata": {},
     "output_type": "execute_result"
    },
    {
     "data": {
      "image/png": "[encoded data removed]",
      "text/plain": [
       "<Figure size 360x720 with 1 Axes>"
      ]
     },
     "metadata": {
      "needs_background": "light"
     },
     "output_type": "display_data"
    }
   ],
   "source": [
    "#analyzing player behaviour\n",
    "df['sum_gamerounds'].plot.box(figsize=(5,10))"
   ]
  },
  {
   "cell_type": "markdown",
   "id": "072105e5",
   "metadata": {},
   "source": [
    "Looking at the data in a boxplot can reveal insights in the data. There is an outlier here where a player played 50,000. We can leave this outlier within the data."
   ]
  },
  {
   "cell_type": "code",
   "execution_count": 8,
   "id": "f25cda72",
   "metadata": {},
   "outputs": [
    {
     "data": {
      "text/plain": [
       "count    90189.000000\n",
       "mean        51.872457\n",
       "std        195.050858\n",
       "min          0.000000\n",
       "25%          5.000000\n",
       "50%         16.000000\n",
       "75%         51.000000\n",
       "max      49854.000000\n",
       "Name: sum_gamerounds, dtype: float64"
      ]
     },
     "execution_count": 8,
     "metadata": {},
     "output_type": "execute_result"
    }
   ],
   "source": [
    "df['sum_gamerounds'].describe()"
   ]
  },
  {
   "cell_type": "markdown",
   "id": "2f71493b",
   "metadata": {},
   "source": [
    "Here we can see the summary statistics of the data. We see on average players get to the 52nd game round which means that our gate_30 and gate_40 change will be relevant for the majority of players."
   ]
  },
  {
   "cell_type": "code",
   "execution_count": 9,
   "id": "eb568679",
   "metadata": {},
   "outputs": [
    {
     "data": {
      "text/plain": [
       "sum_gamerounds\n",
       "0        3994\n",
       "1        5538\n",
       "2        4606\n",
       "3        3958\n",
       "4        3629\n",
       "         ... \n",
       "2294        1\n",
       "2438        1\n",
       "2640        1\n",
       "2961        1\n",
       "49854       1\n",
       "Name: userid, Length: 942, dtype: int64"
      ]
     },
     "execution_count": 9,
     "metadata": {},
     "output_type": "execute_result"
    }
   ],
   "source": [
    "#number of players grouped by game rounds\n",
    "plot_df = df.groupby('sum_gamerounds')['userid'].count()\n",
    "plot_df"
   ]
  },
  {
   "cell_type": "code",
   "execution_count": 10,
   "id": "4bc2f6f8",
   "metadata": {},
   "outputs": [
    {
     "data": {
      "text/plain": [
       "Text(0.5, 0, 'Number of Game Rounds')"
      ]
     },
     "execution_count": 10,
     "metadata": {},
     "output_type": "execute_result"
    },
    {
     "data": {
      "image/png": "[encoded data removed]",
      "text/plain": [
       "<Figure size 720x432 with 1 Axes>"
      ]
     },
     "metadata": {
      "needs_background": "light"
     },
     "output_type": "display_data"
    }
   ],
   "source": [
    "#plot the distribution of players over the first week\n",
    "%matplotlib inline\n",
    "\n",
    "#below plots the first 100 of the plot_df dataframe that is grouped and ordered by gamerounds\n",
    "axis = plot_df[:100].plot(figsize=(10,6))\n",
    "axis.set_title(\"Number of players that played 0-100 game rounds during the first week\")\n",
    "axis.set_ylabel(\"Number of Players\")\n",
    "axis.set_xlabel(\"Number of Game Rounds\")"
   ]
  },
  {
   "cell_type": "markdown",
   "id": "eef044b1",
   "metadata": {},
   "source": [
    "The data distribution is skewed with a long right tail. The drop off of players begins after the first round and plateaues around 70 games. Some players install the game but never play (0 rounds).\n",
    "\n",
    "1-day retention is the percentage of playersthat come back and play the game one day after installing (retention_1)"
   ]
  },
  {
   "cell_type": "code",
   "execution_count": 12,
   "id": "9d3b8111",
   "metadata": {},
   "outputs": [
    {
     "data": {
      "text/plain": [
       "0.4452095044850259"
      ]
     },
     "execution_count": 12,
     "metadata": {},
     "output_type": "execute_result"
    }
   ],
   "source": [
    "#calculate the mean 1-day retenion\n",
    "#summing retention_1 and dividing by the count will give the mean retention true=1 and false=0\n",
    "df['retention_1'].sum() / df['retention_1'].count()"
   ]
  },
  {
   "cell_type": "markdown",
   "id": "b83232bb",
   "metadata": {},
   "source": [
    "44% of players return after one day after installing."
   ]
  },
  {
   "cell_type": "code",
   "execution_count": 13,
   "id": "d128e68f",
   "metadata": {},
   "outputs": [
    {
     "data": {
      "text/plain": [
       "version\n",
       "gate_30    0.448188\n",
       "gate_40    0.442283\n",
       "Name: retention_1, dtype: float64"
      ]
     },
     "execution_count": 13,
     "metadata": {},
     "output_type": "execute_result"
    }
   ],
   "source": [
    "df.groupby('version')['retention_1'].mean()"
   ]
  },
  {
   "cell_type": "markdown",
   "id": "54b03683",
   "metadata": {},
   "source": [
    "This shows a small difference in retention between Gate_30 and Gate_40 (0.6%), now we need to determine if this is significant. We can use bootstrapping to repeatedly resample the data with replacement to see if the difference is potentially due to variation."
   ]
  },
  {
   "cell_type": "code",
   "execution_count": 20,
   "id": "888c4922",
   "metadata": {},
   "outputs": [
    {
     "data": {
      "text/plain": [
       "<AxesSubplot:ylabel='Density'>"
      ]
     },
     "execution_count": 20,
     "metadata": {},
     "output_type": "execute_result"
    },
    {
     "data": {
      "image/png": "[encoded data removed]",
      "text/plain": [
       "<Figure size 432x288 with 1 Axes>"
      ]
     },
     "metadata": {
      "needs_background": "light"
     },
     "output_type": "display_data"
    }
   ],
   "source": [
    "#empty list for bootstrap 1 day retention\n",
    "bootstrap_retention_1 = []\n",
    "#range is equal to number of bootstraps\n",
    "for i in range(1000):\n",
    "    #calculate the mean retention for each bootstrap\n",
    "    bootstrap_mean = df.sample(frac = 1, replace = True).groupby('version')['retention_1'].mean()\n",
    "    #append our empty data frame with the outcome of each run\n",
    "    bootstrap_retention_1.append(bootstrap_mean)\n",
    "bootstrap_retention_1 = pd.DataFrame(bootstrap_retention_1)\n",
    "#Kernel Density Estimate plot of the bootstrap run distribution\n",
    "bootstrap_retention_1.plot(kind='density')"
   ]
  },
  {
   "cell_type": "markdown",
   "id": "d002c619",
   "metadata": {},
   "source": [
    "The two distributions show the range of uncertainty for the true 1-day retention means of each group. We can plot % difference distribution to better visualize the range of outcomes."
   ]
  },
  {
   "cell_type": "code",
   "execution_count": 26,
   "id": "a33c83d3",
   "metadata": {},
   "outputs": [
    {
     "name": "stdout",
     "output_type": "stream",
     "text": [
      "The probability that gate_30 has a greater 1-day retention that gate_40 is:  0.965\n"
     ]
    },
    {
     "data": {
      "image/png": "[encoded data removed]",
      "text/plain": [
       "<Figure size 432x288 with 1 Axes>"
      ]
     },
     "metadata": {
      "needs_background": "light"
     },
     "output_type": "display_data"
    }
   ],
   "source": [
    "bootstrap_retention_1['delta'] = (bootstrap_retention_1.gate_30 - bootstrap_retention_1.gate_40)/bootstrap_retention_1.gate_40*100\n",
    "\n",
    "axis = bootstrap_retention_1['delta'].plot(kind='density')\n",
    "axis.set_title ('% Difference between gate_30 and gate_40')\n",
    "print('The probability that gate_30 has a greater 1-day retention that gate_40 is: ',(bootstrap_retention_1['delta']>0).mean())"
   ]
  },
  {
   "cell_type": "markdown",
   "id": "af5c1f2a",
   "metadata": {},
   "source": [
    "The above graph shows that 0.965 or 96.5% of the distribution is above 0 meaning that there is 96.5% probability that gate_30 has greater retention than gate_40. We can now look at the 7-day retention data. Since many players may not make it to gate 30 or 40 they may not be impacted by the differential in gate placement."
   ]
  },
  {
   "cell_type": "code",
   "execution_count": 27,
   "id": "72c7f4cb",
   "metadata": {},
   "outputs": [
    {
     "data": {
      "text/plain": [
       "<AxesSubplot:ylabel='Density'>"
      ]
     },
     "execution_count": 27,
     "metadata": {},
     "output_type": "execute_result"
    },
    {
     "data": {
      "image/png": "[encoded data removed]",
      "text/plain": [
       "<Figure size 432x288 with 1 Axes>"
      ]
     },
     "metadata": {
      "needs_background": "light"
     },
     "output_type": "display_data"
    }
   ],
   "source": [
    "#Using the same method as the 1-day retention data\n",
    "bootstrap_retention_7 = []\n",
    "for i in range(1000):\n",
    "    bootstrap_mean = df.sample(frac = 1, replace = True).groupby('version')['retention_7'].mean()\n",
    "    bootstrap_retention_7.append(bootstrap_mean)\n",
    "bootstrap_retention_7 = pd.DataFrame(bootstrap_retention_7)\n",
    "bootstrap_retention_7.plot(kind='density')"
   ]
  },
  {
   "cell_type": "markdown",
   "id": "def9bb63",
   "metadata": {},
   "source": [
    "There is even less overlap between these two distrubtions, suggesting more certainty in a difference in 7-day retention vs the 1-day retention."
   ]
  },
  {
   "cell_type": "code",
   "execution_count": 28,
   "id": "7b16abd7",
   "metadata": {},
   "outputs": [
    {
     "name": "stdout",
     "output_type": "stream",
     "text": [
      "The probability that gate_30 has a greater 7-day retention that gate_40 is:  0.999\n"
     ]
    },
    {
     "data": {
      "image/png": "[encoded data removed]",
      "text/plain": [
       "<Figure size 432x288 with 1 Axes>"
      ]
     },
     "metadata": {
      "needs_background": "light"
     },
     "output_type": "display_data"
    }
   ],
   "source": [
    "bootstrap_retention_7['delta'] = (bootstrap_retention_7.gate_30 - bootstrap_retention_7.gate_40)/bootstrap_retention_7.gate_40*100\n",
    "\n",
    "axis = bootstrap_retention_7['delta'].plot(kind='density')\n",
    "axis.set_title ('% Difference between gate_30 and gate_40')\n",
    "print('The probability that gate_30 has a greater 7-day retention that gate_40 is: ',(bootstrap_retention_7['delta']>0).mean())"
   ]
  },
  {
   "cell_type": "markdown",
   "id": "ba3b1651",
   "metadata": {},
   "source": [
    "The above graph shows that 0.999 or 99.9% of the distribution is above 0 meaning that there is 99.9% probability that gate_30 has greater retention than gate_40 for 7 days. This leads to the conclusion that for greater retention for both 1 day and 7 days, a gate should be at level 30 compared to 40.\n",
    "\n",
    "This same approach can be taken with other metrics in the game such as in-game purchases, or game time."
   ]
  },
  {
   "cell_type": "code",
   "execution_count": null,
   "id": "7d4aef42",
   "metadata": {},
   "outputs": [],
   "source": []
  }
 ],
 "metadata": {
  "kernelspec": {
   "display_name": "Python 3 (ipykernel)",
   "language": "python",
   "name": "python3"
  },
  "language_info": {
   "codemirror_mode": {
    "name": "ipython",
    "version": 3
   },
   "file_extension": ".py",
   "mimetype": "text/x-python",
   "name": "python",
   "nbconvert_exporter": "python",
   "pygments_lexer": "ipython3",
   "version": "3.9.7"
  }
 },
 "nbformat": 4,
 "nbformat_minor": 5
}
